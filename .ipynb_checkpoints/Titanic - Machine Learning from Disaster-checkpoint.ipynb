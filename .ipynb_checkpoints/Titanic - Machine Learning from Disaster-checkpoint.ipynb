{
 "cells": [
  {
   "cell_type": "markdown",
   "id": "d4ac03a3",
   "metadata": {},
   "source": [
    "## Kaggle Competition: Titanic - Machine Learning from Disaster\n",
    "\n",
    "The goal of this project is to use ML models to predict which passengers survived in the Titanic shipwreck. Data comes from the [Kaggle 'Titanic - Machine Learning from Disaster' competition](https://www.kaggle.com/c/titanic/overview). "
   ]
  },
  {
   "cell_type": "markdown",
   "id": "089afba4",
   "metadata": {},
   "source": [
    "## Importing Libraries"
   ]
  },
  {
   "cell_type": "code",
   "execution_count": 1,
   "id": "e2e45d4a",
   "metadata": {},
   "outputs": [],
   "source": [
    "import pandas as pd\n",
    "import numpy as np\n",
    "import matplotlib.pyplot as plt\n",
    "import seaborn as sns\n",
    "%matplotlib inline"
   ]
  },
  {
   "cell_type": "markdown",
   "id": "78cac71b",
   "metadata": {},
   "source": [
    "## Loading in the data"
   ]
  },
  {
   "cell_type": "code",
   "execution_count": 2,
   "id": "24aa4187",
   "metadata": {},
   "outputs": [],
   "source": [
    "titanic = pd.read_csv('train.csv')"
   ]
  },
  {
   "cell_type": "code",
   "execution_count": 3,
   "id": "7aceefab",
   "metadata": {
    "scrolled": true
   },
   "outputs": [
    {
     "data": {
      "text/html": [
       "<div>\n",
       "<style scoped>\n",
       "    .dataframe tbody tr th:only-of-type {\n",
       "        vertical-align: middle;\n",
       "    }\n",
       "\n",
       "    .dataframe tbody tr th {\n",
       "        vertical-align: top;\n",
       "    }\n",
       "\n",
       "    .dataframe thead th {\n",
       "        text-align: right;\n",
       "    }\n",
       "</style>\n",
       "<table border=\"1\" class=\"dataframe\">\n",
       "  <thead>\n",
       "    <tr style=\"text-align: right;\">\n",
       "      <th></th>\n",
       "      <th>PassengerId</th>\n",
       "      <th>Survived</th>\n",
       "      <th>Pclass</th>\n",
       "      <th>Name</th>\n",
       "      <th>Sex</th>\n",
       "      <th>Age</th>\n",
       "      <th>SibSp</th>\n",
       "      <th>Parch</th>\n",
       "      <th>Ticket</th>\n",
       "      <th>Fare</th>\n",
       "      <th>Cabin</th>\n",
       "      <th>Embarked</th>\n",
       "    </tr>\n",
       "  </thead>\n",
       "  <tbody>\n",
       "    <tr>\n",
       "      <th>0</th>\n",
       "      <td>1</td>\n",
       "      <td>0</td>\n",
       "      <td>3</td>\n",
       "      <td>Braund, Mr. Owen Harris</td>\n",
       "      <td>male</td>\n",
       "      <td>22.0</td>\n",
       "      <td>1</td>\n",
       "      <td>0</td>\n",
       "      <td>A/5 21171</td>\n",
       "      <td>7.2500</td>\n",
       "      <td>NaN</td>\n",
       "      <td>S</td>\n",
       "    </tr>\n",
       "    <tr>\n",
       "      <th>1</th>\n",
       "      <td>2</td>\n",
       "      <td>1</td>\n",
       "      <td>1</td>\n",
       "      <td>Cumings, Mrs. John Bradley (Florence Briggs Th...</td>\n",
       "      <td>female</td>\n",
       "      <td>38.0</td>\n",
       "      <td>1</td>\n",
       "      <td>0</td>\n",
       "      <td>PC 17599</td>\n",
       "      <td>71.2833</td>\n",
       "      <td>C85</td>\n",
       "      <td>C</td>\n",
       "    </tr>\n",
       "    <tr>\n",
       "      <th>2</th>\n",
       "      <td>3</td>\n",
       "      <td>1</td>\n",
       "      <td>3</td>\n",
       "      <td>Heikkinen, Miss. Laina</td>\n",
       "      <td>female</td>\n",
       "      <td>26.0</td>\n",
       "      <td>0</td>\n",
       "      <td>0</td>\n",
       "      <td>STON/O2. 3101282</td>\n",
       "      <td>7.9250</td>\n",
       "      <td>NaN</td>\n",
       "      <td>S</td>\n",
       "    </tr>\n",
       "    <tr>\n",
       "      <th>3</th>\n",
       "      <td>4</td>\n",
       "      <td>1</td>\n",
       "      <td>1</td>\n",
       "      <td>Futrelle, Mrs. Jacques Heath (Lily May Peel)</td>\n",
       "      <td>female</td>\n",
       "      <td>35.0</td>\n",
       "      <td>1</td>\n",
       "      <td>0</td>\n",
       "      <td>113803</td>\n",
       "      <td>53.1000</td>\n",
       "      <td>C123</td>\n",
       "      <td>S</td>\n",
       "    </tr>\n",
       "    <tr>\n",
       "      <th>4</th>\n",
       "      <td>5</td>\n",
       "      <td>0</td>\n",
       "      <td>3</td>\n",
       "      <td>Allen, Mr. William Henry</td>\n",
       "      <td>male</td>\n",
       "      <td>35.0</td>\n",
       "      <td>0</td>\n",
       "      <td>0</td>\n",
       "      <td>373450</td>\n",
       "      <td>8.0500</td>\n",
       "      <td>NaN</td>\n",
       "      <td>S</td>\n",
       "    </tr>\n",
       "  </tbody>\n",
       "</table>\n",
       "</div>"
      ],
      "text/plain": [
       "   PassengerId  Survived  Pclass  \\\n",
       "0            1         0       3   \n",
       "1            2         1       1   \n",
       "2            3         1       3   \n",
       "3            4         1       1   \n",
       "4            5         0       3   \n",
       "\n",
       "                                                Name     Sex   Age  SibSp  \\\n",
       "0                            Braund, Mr. Owen Harris    male  22.0      1   \n",
       "1  Cumings, Mrs. John Bradley (Florence Briggs Th...  female  38.0      1   \n",
       "2                             Heikkinen, Miss. Laina  female  26.0      0   \n",
       "3       Futrelle, Mrs. Jacques Heath (Lily May Peel)  female  35.0      1   \n",
       "4                           Allen, Mr. William Henry    male  35.0      0   \n",
       "\n",
       "   Parch            Ticket     Fare Cabin Embarked  \n",
       "0      0         A/5 21171   7.2500   NaN        S  \n",
       "1      0          PC 17599  71.2833   C85        C  \n",
       "2      0  STON/O2. 3101282   7.9250   NaN        S  \n",
       "3      0            113803  53.1000  C123        S  \n",
       "4      0            373450   8.0500   NaN        S  "
      ]
     },
     "execution_count": 3,
     "metadata": {},
     "output_type": "execute_result"
    }
   ],
   "source": [
    "titanic.head()"
   ]
  },
  {
   "cell_type": "code",
   "execution_count": 4,
   "id": "e438445e",
   "metadata": {},
   "outputs": [
    {
     "name": "stdout",
     "output_type": "stream",
     "text": [
      "<class 'pandas.core.frame.DataFrame'>\n",
      "RangeIndex: 891 entries, 0 to 890\n",
      "Data columns (total 12 columns):\n",
      " #   Column       Non-Null Count  Dtype  \n",
      "---  ------       --------------  -----  \n",
      " 0   PassengerId  891 non-null    int64  \n",
      " 1   Survived     891 non-null    int64  \n",
      " 2   Pclass       891 non-null    int64  \n",
      " 3   Name         891 non-null    object \n",
      " 4   Sex          891 non-null    object \n",
      " 5   Age          714 non-null    float64\n",
      " 6   SibSp        891 non-null    int64  \n",
      " 7   Parch        891 non-null    int64  \n",
      " 8   Ticket       891 non-null    object \n",
      " 9   Fare         891 non-null    float64\n",
      " 10  Cabin        204 non-null    object \n",
      " 11  Embarked     889 non-null    object \n",
      "dtypes: float64(2), int64(5), object(5)\n",
      "memory usage: 83.7+ KB\n"
     ]
    }
   ],
   "source": [
    "titanic.info()"
   ]
  },
  {
   "cell_type": "code",
   "execution_count": 5,
   "id": "25133620",
   "metadata": {},
   "outputs": [
    {
     "data": {
      "text/html": [
       "<div>\n",
       "<style scoped>\n",
       "    .dataframe tbody tr th:only-of-type {\n",
       "        vertical-align: middle;\n",
       "    }\n",
       "\n",
       "    .dataframe tbody tr th {\n",
       "        vertical-align: top;\n",
       "    }\n",
       "\n",
       "    .dataframe thead th {\n",
       "        text-align: right;\n",
       "    }\n",
       "</style>\n",
       "<table border=\"1\" class=\"dataframe\">\n",
       "  <thead>\n",
       "    <tr style=\"text-align: right;\">\n",
       "      <th></th>\n",
       "      <th>PassengerId</th>\n",
       "      <th>Survived</th>\n",
       "      <th>Pclass</th>\n",
       "      <th>Age</th>\n",
       "      <th>SibSp</th>\n",
       "      <th>Parch</th>\n",
       "      <th>Fare</th>\n",
       "    </tr>\n",
       "  </thead>\n",
       "  <tbody>\n",
       "    <tr>\n",
       "      <th>count</th>\n",
       "      <td>891.000000</td>\n",
       "      <td>891.000000</td>\n",
       "      <td>891.000000</td>\n",
       "      <td>714.000000</td>\n",
       "      <td>891.000000</td>\n",
       "      <td>891.000000</td>\n",
       "      <td>891.000000</td>\n",
       "    </tr>\n",
       "    <tr>\n",
       "      <th>mean</th>\n",
       "      <td>446.000000</td>\n",
       "      <td>0.383838</td>\n",
       "      <td>2.308642</td>\n",
       "      <td>29.699118</td>\n",
       "      <td>0.523008</td>\n",
       "      <td>0.381594</td>\n",
       "      <td>32.204208</td>\n",
       "    </tr>\n",
       "    <tr>\n",
       "      <th>std</th>\n",
       "      <td>257.353842</td>\n",
       "      <td>0.486592</td>\n",
       "      <td>0.836071</td>\n",
       "      <td>14.526497</td>\n",
       "      <td>1.102743</td>\n",
       "      <td>0.806057</td>\n",
       "      <td>49.693429</td>\n",
       "    </tr>\n",
       "    <tr>\n",
       "      <th>min</th>\n",
       "      <td>1.000000</td>\n",
       "      <td>0.000000</td>\n",
       "      <td>1.000000</td>\n",
       "      <td>0.420000</td>\n",
       "      <td>0.000000</td>\n",
       "      <td>0.000000</td>\n",
       "      <td>0.000000</td>\n",
       "    </tr>\n",
       "    <tr>\n",
       "      <th>25%</th>\n",
       "      <td>223.500000</td>\n",
       "      <td>0.000000</td>\n",
       "      <td>2.000000</td>\n",
       "      <td>20.125000</td>\n",
       "      <td>0.000000</td>\n",
       "      <td>0.000000</td>\n",
       "      <td>7.910400</td>\n",
       "    </tr>\n",
       "    <tr>\n",
       "      <th>50%</th>\n",
       "      <td>446.000000</td>\n",
       "      <td>0.000000</td>\n",
       "      <td>3.000000</td>\n",
       "      <td>28.000000</td>\n",
       "      <td>0.000000</td>\n",
       "      <td>0.000000</td>\n",
       "      <td>14.454200</td>\n",
       "    </tr>\n",
       "    <tr>\n",
       "      <th>75%</th>\n",
       "      <td>668.500000</td>\n",
       "      <td>1.000000</td>\n",
       "      <td>3.000000</td>\n",
       "      <td>38.000000</td>\n",
       "      <td>1.000000</td>\n",
       "      <td>0.000000</td>\n",
       "      <td>31.000000</td>\n",
       "    </tr>\n",
       "    <tr>\n",
       "      <th>max</th>\n",
       "      <td>891.000000</td>\n",
       "      <td>1.000000</td>\n",
       "      <td>3.000000</td>\n",
       "      <td>80.000000</td>\n",
       "      <td>8.000000</td>\n",
       "      <td>6.000000</td>\n",
       "      <td>512.329200</td>\n",
       "    </tr>\n",
       "  </tbody>\n",
       "</table>\n",
       "</div>"
      ],
      "text/plain": [
       "       PassengerId    Survived      Pclass         Age       SibSp  \\\n",
       "count   891.000000  891.000000  891.000000  714.000000  891.000000   \n",
       "mean    446.000000    0.383838    2.308642   29.699118    0.523008   \n",
       "std     257.353842    0.486592    0.836071   14.526497    1.102743   \n",
       "min       1.000000    0.000000    1.000000    0.420000    0.000000   \n",
       "25%     223.500000    0.000000    2.000000   20.125000    0.000000   \n",
       "50%     446.000000    0.000000    3.000000   28.000000    0.000000   \n",
       "75%     668.500000    1.000000    3.000000   38.000000    1.000000   \n",
       "max     891.000000    1.000000    3.000000   80.000000    8.000000   \n",
       "\n",
       "            Parch        Fare  \n",
       "count  891.000000  891.000000  \n",
       "mean     0.381594   32.204208  \n",
       "std      0.806057   49.693429  \n",
       "min      0.000000    0.000000  \n",
       "25%      0.000000    7.910400  \n",
       "50%      0.000000   14.454200  \n",
       "75%      0.000000   31.000000  \n",
       "max      6.000000  512.329200  "
      ]
     },
     "execution_count": 5,
     "metadata": {},
     "output_type": "execute_result"
    }
   ],
   "source": [
    "titanic.describe()"
   ]
  },
  {
   "cell_type": "markdown",
   "id": "7f3d6373",
   "metadata": {},
   "source": [
    "## Exploratory Data Analysis\n",
    "\n",
    "It appears that there are several missing values (NaN's) in the dataset. We'll need to figure out what to do with those first before we can proceed with building our ML models.\n",
    "\n",
    "Let's see which of our features have NaN's first."
   ]
  },
  {
   "cell_type": "code",
   "execution_count": 6,
   "id": "7d827e5e",
   "metadata": {},
   "outputs": [
    {
     "data": {
      "text/html": [
       "<div>\n",
       "<style scoped>\n",
       "    .dataframe tbody tr th:only-of-type {\n",
       "        vertical-align: middle;\n",
       "    }\n",
       "\n",
       "    .dataframe tbody tr th {\n",
       "        vertical-align: top;\n",
       "    }\n",
       "\n",
       "    .dataframe thead th {\n",
       "        text-align: right;\n",
       "    }\n",
       "</style>\n",
       "<table border=\"1\" class=\"dataframe\">\n",
       "  <thead>\n",
       "    <tr style=\"text-align: right;\">\n",
       "      <th></th>\n",
       "      <th>Age</th>\n",
       "      <th>Cabin</th>\n",
       "      <th>Embarked</th>\n",
       "    </tr>\n",
       "  </thead>\n",
       "  <tbody>\n",
       "    <tr>\n",
       "      <th>0</th>\n",
       "      <td>22.0</td>\n",
       "      <td>NaN</td>\n",
       "      <td>S</td>\n",
       "    </tr>\n",
       "    <tr>\n",
       "      <th>1</th>\n",
       "      <td>38.0</td>\n",
       "      <td>C85</td>\n",
       "      <td>C</td>\n",
       "    </tr>\n",
       "    <tr>\n",
       "      <th>2</th>\n",
       "      <td>26.0</td>\n",
       "      <td>NaN</td>\n",
       "      <td>S</td>\n",
       "    </tr>\n",
       "    <tr>\n",
       "      <th>3</th>\n",
       "      <td>35.0</td>\n",
       "      <td>C123</td>\n",
       "      <td>S</td>\n",
       "    </tr>\n",
       "    <tr>\n",
       "      <th>4</th>\n",
       "      <td>35.0</td>\n",
       "      <td>NaN</td>\n",
       "      <td>S</td>\n",
       "    </tr>\n",
       "    <tr>\n",
       "      <th>...</th>\n",
       "      <td>...</td>\n",
       "      <td>...</td>\n",
       "      <td>...</td>\n",
       "    </tr>\n",
       "    <tr>\n",
       "      <th>886</th>\n",
       "      <td>27.0</td>\n",
       "      <td>NaN</td>\n",
       "      <td>S</td>\n",
       "    </tr>\n",
       "    <tr>\n",
       "      <th>887</th>\n",
       "      <td>19.0</td>\n",
       "      <td>B42</td>\n",
       "      <td>S</td>\n",
       "    </tr>\n",
       "    <tr>\n",
       "      <th>888</th>\n",
       "      <td>NaN</td>\n",
       "      <td>NaN</td>\n",
       "      <td>S</td>\n",
       "    </tr>\n",
       "    <tr>\n",
       "      <th>889</th>\n",
       "      <td>26.0</td>\n",
       "      <td>C148</td>\n",
       "      <td>C</td>\n",
       "    </tr>\n",
       "    <tr>\n",
       "      <th>890</th>\n",
       "      <td>32.0</td>\n",
       "      <td>NaN</td>\n",
       "      <td>Q</td>\n",
       "    </tr>\n",
       "  </tbody>\n",
       "</table>\n",
       "<p>891 rows × 3 columns</p>\n",
       "</div>"
      ],
      "text/plain": [
       "      Age Cabin Embarked\n",
       "0    22.0   NaN        S\n",
       "1    38.0   C85        C\n",
       "2    26.0   NaN        S\n",
       "3    35.0  C123        S\n",
       "4    35.0   NaN        S\n",
       "..    ...   ...      ...\n",
       "886  27.0   NaN        S\n",
       "887  19.0   B42        S\n",
       "888   NaN   NaN        S\n",
       "889  26.0  C148        C\n",
       "890  32.0   NaN        Q\n",
       "\n",
       "[891 rows x 3 columns]"
      ]
     },
     "execution_count": 6,
     "metadata": {},
     "output_type": "execute_result"
    }
   ],
   "source": [
    "titanic.loc[:, titanic.isnull().any() ]"
   ]
  },
  {
   "cell_type": "markdown",
   "id": "193f4abf",
   "metadata": {},
   "source": [
    "It appears that our features with missing values are `Age`, `Cabin`, and `Embarked`. Let's visualize how many missing values are in each column."
   ]
  },
  {
   "cell_type": "code",
   "execution_count": 7,
   "id": "4c0e3018",
   "metadata": {},
   "outputs": [
    {
     "data": {
      "text/plain": [
       "<matplotlib.axes._subplots.AxesSubplot at 0x13906a73160>"
      ]
     },
     "execution_count": 7,
     "metadata": {},
     "output_type": "execute_result"
    },
    {
     "data": {
      "image/png": "[encoded data removed]",
      "text/plain": [
       "<Figure size 792x504 with 2 Axes>"
      ]
     },
     "metadata": {
      "needs_background": "light"
     },
     "output_type": "display_data"
    }
   ],
   "source": [
    "plt.figure(figsize = (11,7))\n",
    "sns.heatmap(titanic.isnull(), cbar = True)"
   ]
  },
  {
   "cell_type": "markdown",
   "id": "f72e826d",
   "metadata": {},
   "source": [
    "We can see that a majority of the information in `Cabin` is missing. It might therefore be better off to simply drop the feature entirely since we can't do much with it. As for `Age` and `Embarked`, we still retain enough values where we can still do something useful with them. \n",
    "\n",
    "For now, let's proceed with the rest of our EDA. Let's look at the distribution of our 'Survived' target column"
   ]
  },
  {
   "cell_type": "code",
   "execution_count": 8,
   "id": "114ff192",
   "metadata": {},
   "outputs": [
    {
     "data": {
      "text/plain": [
       "[array([549, 342], dtype=int64)]"
      ]
     },
     "execution_count": 8,
     "metadata": {},
     "output_type": "execute_result"
    }
   ],
   "source": [
    "[titanic['Survived'].value_counts().values]"
   ]
  },
  {
   "cell_type": "code",
   "execution_count": 9,
   "id": "d77770f9",
   "metadata": {},
   "outputs": [
    {
     "data": {
      "image/png": "[encoded data removed]",
      "text/plain": [
       "<Figure size 792x504 with 1 Axes>"
      ]
     },
     "metadata": {
      "needs_background": "light"
     },
     "output_type": "display_data"
    }
   ],
   "source": [
    "fig = plt.figure(figsize = (11,7))\n",
    "ax = sns.countplot(x = 'Survived', data = titanic)\n",
    "\n",
    "for p, label in zip(ax.patches, titanic[\"Survived\"].value_counts().values):\n",
    "    ax.annotate(label, (p.get_x()+0.375, p.get_height()+0.4))"
   ]
  },
  {
   "cell_type": "markdown",
   "id": "944d9d27",
   "metadata": {},
   "source": [
    "There's an uneven distribution between Survivors and non-survivors. \n",
    "\n",
    "Let's explore the 'Sex' feature first, which might be a significant predictor so let's visualize who survived by sex."
   ]
  },
  {
   "cell_type": "code",
   "execution_count": 10,
   "id": "60c52a6c",
   "metadata": {},
   "outputs": [
    {
     "data": {
      "text/plain": [
       "<matplotlib.axes._subplots.AxesSubplot at 0x13907402130>"
      ]
     },
     "execution_count": 10,
     "metadata": {},
     "output_type": "execute_result"
    },
    {
     "data": {
      "image/png": "[encoded data removed]",
      "text/plain": [
       "<Figure size 792x504 with 1 Axes>"
      ]
     },
     "metadata": {
      "needs_background": "light"
     },
     "output_type": "display_data"
    }
   ],
   "source": [
    "plt.figure(figsize = (11,7))\n",
    "sns.countplot(x = 'Survived', hue = 'Sex', data = titanic)"
   ]
  },
  {
   "cell_type": "markdown",
   "id": "0148b966",
   "metadata": {},
   "source": [
    "It seems that the overwhelming proportion of those who survived were female. Those who didn't survive were overwhelmingly male.\n",
    "\n",
    "Let's look at who survived by age."
   ]
  },
  {
   "cell_type": "code",
   "execution_count": 11,
   "id": "dc87ecf3",
   "metadata": {},
   "outputs": [
    {
     "data": {
      "text/plain": [
       "<matplotlib.legend.Legend at 0x139072c8340>"
      ]
     },
     "execution_count": 11,
     "metadata": {},
     "output_type": "execute_result"
    },
    {
     "data": {
      "image/png": "[encoded data removed]",
      "text/plain": [
       "<Figure size 792x504 with 1 Axes>"
      ]
     },
     "metadata": {
      "needs_background": "light"
     },
     "output_type": "display_data"
    }
   ],
   "source": [
    "plt.figure(figsize = (11,7))\n",
    "titanic[titanic['Survived'] == 1]['Age'].dropna().hist(bins = 30, alpha = 0.6, label = 'Survived', color = 'blue')\n",
    "titanic[titanic['Survived'] == 0]['Age'].dropna().hist(bins = 30, alpha = 0.6, label = 'Did Not Survive', color = 'red')\n",
    "plt.legend()"
   ]
  },
  {
   "cell_type": "markdown",
   "id": "175b0650",
   "metadata": {},
   "source": [
    "Visually, there doesn't appear to be a large difference in ages between those who survived and those who didn't. "
   ]
  },
  {
   "cell_type": "code",
   "execution_count": 12,
   "id": "ddddf4e0",
   "metadata": {
    "scrolled": false
   },
   "outputs": [
    {
     "data": {
      "text/plain": [
       "<matplotlib.axes._subplots.AxesSubplot at 0x139075cd280>"
      ]
     },
     "execution_count": 12,
     "metadata": {},
     "output_type": "execute_result"
    },
    {
     "data": {
      "image/png": "[encoded data removed]",
      "text/plain": [
       "<Figure size 792x504 with 1 Axes>"
      ]
     },
     "metadata": {
      "needs_background": "light"
     },
     "output_type": "display_data"
    }
   ],
   "source": [
    "plt.figure(figsize = (11,7))\n",
    "sns.histplot(titanic['Age'].dropna(), kde = False, bins = 30 )"
   ]
  },
  {
   "cell_type": "markdown",
   "id": "f947c353",
   "metadata": {},
   "source": [
    "There were a surprising amount of passengers aged 0 to 10. It seems the majority of passengers were around 20 to 40 years of age.\n",
    "\n",
    "Let's look at `Sibsp`, the passenger's number of siblings/spouses onboard, and `parch`, the number of children or parents onboard."
   ]
  },
  {
   "cell_type": "code",
   "execution_count": 13,
   "id": "eee78bff",
   "metadata": {
    "scrolled": false
   },
   "outputs": [
    {
     "data": {
      "text/plain": [
       "<matplotlib.axes._subplots.AxesSubplot at 0x13907a12580>"
      ]
     },
     "execution_count": 13,
     "metadata": {},
     "output_type": "execute_result"
    },
    {
     "data": {
      "image/png": "[encoded data removed]",
      "text/plain": [
       "<Figure size 792x504 with 1 Axes>"
      ]
     },
     "metadata": {
      "needs_background": "light"
     },
     "output_type": "display_data"
    }
   ],
   "source": [
    "plt.figure(figsize = (11,7))\n",
    "sns.countplot(x = 'SibSp', data = titanic)"
   ]
  },
  {
   "cell_type": "code",
   "execution_count": 14,
   "id": "b29ee265",
   "metadata": {},
   "outputs": [
    {
     "data": {
      "text/plain": [
       "<matplotlib.axes._subplots.AxesSubplot at 0x13907a62490>"
      ]
     },
     "execution_count": 14,
     "metadata": {},
     "output_type": "execute_result"
    },
    {
     "data": {
      "image/png": "[encoded data removed]",
      "text/plain": [
       "<Figure size 792x504 with 1 Axes>"
      ]
     },
     "metadata": {
      "needs_background": "light"
     },
     "output_type": "display_data"
    }
   ],
   "source": [
    "plt.figure(figsize = (11,7))\n",
    "sns.countplot(x = 'Parch', data = titanic)"
   ]
  },
  {
   "cell_type": "markdown",
   "id": "9dd82dc0",
   "metadata": {},
   "source": [
    "The vast majority of passengers traveled by themselves. Some of them had a sibling or spouse onboard. Few traveled with a parent of child. \n",
    "\n",
    "Finally, let's take a look at the passenger classes and ticket prices."
   ]
  },
  {
   "cell_type": "code",
   "execution_count": 15,
   "id": "a86f1c28",
   "metadata": {
    "scrolled": false
   },
   "outputs": [
    {
     "data": {
      "text/plain": [
       "<matplotlib.axes._subplots.AxesSubplot at 0x13907a49ee0>"
      ]
     },
     "execution_count": 15,
     "metadata": {},
     "output_type": "execute_result"
    },
    {
     "data": {
      "image/png": "[encoded data removed]",
      "text/plain": [
       "<Figure size 792x504 with 1 Axes>"
      ]
     },
     "metadata": {
      "needs_background": "light"
     },
     "output_type": "display_data"
    }
   ],
   "source": [
    "plt.figure(figsize = (11,7))\n",
    "sns.countplot(x = 'Pclass', data = titanic)"
   ]
  },
  {
   "cell_type": "markdown",
   "id": "a516c61b",
   "metadata": {},
   "source": [
    "It's interesting that there are more passengers in 1st class than in 2nd class. 3rd class of course composes of most of the passengers. "
   ]
  },
  {
   "cell_type": "code",
   "execution_count": 16,
   "id": "32e3a2b2",
   "metadata": {
    "scrolled": false
   },
   "outputs": [
    {
     "data": {
      "image/png": "[encoded data removed]",
      "text/plain": [
       "<Figure size 792x504 with 1 Axes>"
      ]
     },
     "metadata": {
      "needs_background": "light"
     },
     "output_type": "display_data"
    }
   ],
   "source": [
    "plt.figure(figsize = (11,7))\n",
    "plt.hist(x = 'Fare', data = titanic, bins = 35)\n",
    "plt.xlabel('Fare')\n",
    "plt.xticks(list(np.arange(0,600,50)))\n",
    "plt.show()"
   ]
  },
  {
   "cell_type": "markdown",
   "id": "9d8cabdb",
   "metadata": {},
   "source": [
    "It seems most ticket prices were between $0 and $50, which makes sense that most of the passengers are in 3rd class."
   ]
  },
  {
   "cell_type": "markdown",
   "id": "98e365bc",
   "metadata": {},
   "source": [
    "## Data Cleaning\n",
    "\n",
    "It's now time to deal with missing values in our dataset. First, let's drop the `Cabin` column because it has too many missing values to be useful. While we're at it, let's also drop the 'Name' and 'Ticket' columns since they're all unique string values. Working with these would be difficult and would likely required NLP to glean any useful information."
   ]
  },
  {
   "cell_type": "code",
   "execution_count": 17,
   "id": "a5298f05",
   "metadata": {},
   "outputs": [
    {
     "name": "stdout",
     "output_type": "stream",
     "text": [
      "<class 'pandas.core.frame.DataFrame'>\n",
      "RangeIndex: 891 entries, 0 to 890\n",
      "Data columns (total 9 columns):\n",
      " #   Column       Non-Null Count  Dtype  \n",
      "---  ------       --------------  -----  \n",
      " 0   PassengerId  891 non-null    int64  \n",
      " 1   Survived     891 non-null    int64  \n",
      " 2   Pclass       891 non-null    int64  \n",
      " 3   Sex          891 non-null    object \n",
      " 4   Age          714 non-null    float64\n",
      " 5   SibSp        891 non-null    int64  \n",
      " 6   Parch        891 non-null    int64  \n",
      " 7   Fare         891 non-null    float64\n",
      " 8   Embarked     889 non-null    object \n",
      "dtypes: float64(2), int64(5), object(2)\n",
      "memory usage: 62.8+ KB\n"
     ]
    }
   ],
   "source": [
    "titanic = titanic.drop(['Cabin', 'Name', 'Ticket'], axis = 1)\n",
    "titanic.info()"
   ]
  },
  {
   "cell_type": "markdown",
   "id": "5d05c0ff",
   "metadata": {},
   "source": [
    "Now, to deal with the missing values in `Age`. We can do some data imputation, or replacing the missing values based on other information in the dataset. Probably the most-related feature in the dataset is `Pclass`, so we can use the average ages in each passenger class to fill in the missing age values. "
   ]
  },
  {
   "cell_type": "code",
   "execution_count": 18,
   "id": "2895bb32",
   "metadata": {
    "scrolled": false
   },
   "outputs": [
    {
     "data": {
      "text/plain": [
       "<matplotlib.axes._subplots.AxesSubplot at 0x13907a20c40>"
      ]
     },
     "execution_count": 18,
     "metadata": {},
     "output_type": "execute_result"
    },
    {
     "data": {
      "image/png": "[encoded data removed]",
      "text/plain": [
       "<Figure size 792x504 with 1 Axes>"
      ]
     },
     "metadata": {
      "needs_background": "light"
     },
     "output_type": "display_data"
    }
   ],
   "source": [
    "plt.figure(figsize = (11,7))\n",
    "sns.boxplot(y='Age', x = 'Pclass', data = titanic)"
   ]
  },
  {
   "cell_type": "markdown",
   "id": "7a0fee3d",
   "metadata": {},
   "source": [
    "There appears to be a significant difference in the ages of passengers in different class. The wealthier passengers in 1st and 2nd class tend to be older than the passengers in 3rd class."
   ]
  },
  {
   "cell_type": "code",
   "execution_count": 19,
   "id": "b25589cf",
   "metadata": {},
   "outputs": [],
   "source": [
    "def impute_age(cols):\n",
    "    Age = cols[0]\n",
    "    Pclass = cols[1]\n",
    "\n",
    "    if pd.isnull(Age):\n",
    "        if Pclass == 1:\n",
    "            return round(titanic[titanic['Pclass'] == 1]['Age'].dropna().mean()) # the average for 1st class\n",
    "        elif Pclass == 2:\n",
    "            return round(titanic[titanic['Pclass'] == 2]['Age'].dropna().mean()) # the average for 2nd class\n",
    "        else:\n",
    "            return round(titanic[titanic['Pclass'] == 3]['Age'].dropna().mean()) # the average for 3rd class\n",
    "    else:\n",
    "        return Age\n"
   ]
  },
  {
   "cell_type": "code",
   "execution_count": 20,
   "id": "936fe1ae",
   "metadata": {
    "scrolled": true
   },
   "outputs": [
    {
     "data": {
      "text/plain": [
       "0"
      ]
     },
     "execution_count": 20,
     "metadata": {},
     "output_type": "execute_result"
    }
   ],
   "source": [
    "titanic['Age'] = titanic[['Age', 'Pclass']].apply(impute_age, axis = 1)\n",
    "titanic['Age'].isna().sum()"
   ]
  },
  {
   "cell_type": "markdown",
   "id": "73011860",
   "metadata": {},
   "source": [
    "Now for `Embarked`..."
   ]
  },
  {
   "cell_type": "code",
   "execution_count": 21,
   "id": "56a9c484",
   "metadata": {},
   "outputs": [
    {
     "data": {
      "text/plain": [
       "2"
      ]
     },
     "execution_count": 21,
     "metadata": {},
     "output_type": "execute_result"
    }
   ],
   "source": [
    "titanic['Embarked'].isna().sum()"
   ]
  },
  {
   "cell_type": "markdown",
   "id": "e8feee08",
   "metadata": {},
   "source": [
    "There are only two missing rows so it might be better to just drop these rows."
   ]
  },
  {
   "cell_type": "code",
   "execution_count": 22,
   "id": "88aee24c",
   "metadata": {
    "scrolled": true
   },
   "outputs": [
    {
     "data": {
      "text/plain": [
       "0"
      ]
     },
     "execution_count": 22,
     "metadata": {},
     "output_type": "execute_result"
    }
   ],
   "source": [
    "titanic.dropna(inplace=True)\n",
    "titanic['Embarked'].isna().sum()"
   ]
  },
  {
   "cell_type": "markdown",
   "id": "662074ad",
   "metadata": {},
   "source": [
    "We can convert `Sex` and `Embarked` to dummy variables, which is much easier to use with our models."
   ]
  },
  {
   "cell_type": "code",
   "execution_count": 23,
   "id": "f3455fc8",
   "metadata": {},
   "outputs": [
    {
     "name": "stdout",
     "output_type": "stream",
     "text": [
      "<class 'pandas.core.frame.DataFrame'>\n",
      "Int64Index: 889 entries, 0 to 890\n",
      "Data columns (total 9 columns):\n",
      " #   Column       Non-Null Count  Dtype  \n",
      "---  ------       --------------  -----  \n",
      " 0   PassengerId  889 non-null    int64  \n",
      " 1   Survived     889 non-null    int64  \n",
      " 2   Pclass       889 non-null    int64  \n",
      " 3   Sex          889 non-null    object \n",
      " 4   Age          889 non-null    float64\n",
      " 5   SibSp        889 non-null    int64  \n",
      " 6   Parch        889 non-null    int64  \n",
      " 7   Fare         889 non-null    float64\n",
      " 8   Embarked     889 non-null    object \n",
      "dtypes: float64(2), int64(5), object(2)\n",
      "memory usage: 69.5+ KB\n"
     ]
    }
   ],
   "source": [
    "titanic.info()"
   ]
  },
  {
   "cell_type": "code",
   "execution_count": 24,
   "id": "7e5746fc",
   "metadata": {},
   "outputs": [],
   "source": [
    "final_data = pd.get_dummies(titanic, columns = ['Sex', 'Embarked'], drop_first = True)"
   ]
  },
  {
   "cell_type": "code",
   "execution_count": 25,
   "id": "9aa1e4bd",
   "metadata": {},
   "outputs": [
    {
     "name": "stdout",
     "output_type": "stream",
     "text": [
      "<class 'pandas.core.frame.DataFrame'>\n",
      "Int64Index: 889 entries, 0 to 890\n",
      "Data columns (total 10 columns):\n",
      " #   Column       Non-Null Count  Dtype  \n",
      "---  ------       --------------  -----  \n",
      " 0   PassengerId  889 non-null    int64  \n",
      " 1   Survived     889 non-null    int64  \n",
      " 2   Pclass       889 non-null    int64  \n",
      " 3   Age          889 non-null    float64\n",
      " 4   SibSp        889 non-null    int64  \n",
      " 5   Parch        889 non-null    int64  \n",
      " 6   Fare         889 non-null    float64\n",
      " 7   Sex_male     889 non-null    uint8  \n",
      " 8   Embarked_Q   889 non-null    uint8  \n",
      " 9   Embarked_S   889 non-null    uint8  \n",
      "dtypes: float64(2), int64(5), uint8(3)\n",
      "memory usage: 58.2 KB\n"
     ]
    }
   ],
   "source": [
    "final_data.info()"
   ]
  },
  {
   "cell_type": "markdown",
   "id": "4d86d04f",
   "metadata": {},
   "source": [
    "## Model Building\n",
    "\n",
    "Now that our data has been sufficiently cleaned, we can start with building machine learning models.\n",
    "\n",
    "First we split our data into train, validation, and test sets."
   ]
  },
  {
   "cell_type": "code",
   "execution_count": 26,
   "id": "56aa6329",
   "metadata": {},
   "outputs": [],
   "source": [
    "from sklearn.model_selection import train_test_split"
   ]
  },
  {
   "cell_type": "code",
   "execution_count": 27,
   "id": "734029de",
   "metadata": {},
   "outputs": [],
   "source": [
    "X = final_data.drop('Survived', axis = 1)\n",
    "y = final_data['Survived']\n",
    "X_trainval, X_test, y_trainval, y_test = train_test_split(X,y, test_size = 0.1, random_state = 42)\n",
    "X_train, X_val, y_train, y_val = train_test_split(X_trainval, y_trainval, test_size = 0.1, random_state = 42)"
   ]
  },
  {
   "cell_type": "markdown",
   "id": "122067d8",
   "metadata": {},
   "source": [
    "### Logistic Regression\n",
    "\n",
    "Let's start with a logistic regression model, which is useful for predicting binary outcomes like our `Survived` label. "
   ]
  },
  {
   "cell_type": "code",
   "execution_count": 28,
   "id": "360e1b6a",
   "metadata": {},
   "outputs": [],
   "source": [
    "from sklearn.linear_model import LogisticRegression"
   ]
  },
  {
   "cell_type": "code",
   "execution_count": 29,
   "id": "708e55be",
   "metadata": {},
   "outputs": [],
   "source": [
    "log_model = LogisticRegression(max_iter = 550)\n",
    "log_model.fit(X_train, y_train)\n",
    "log_predictions = log_model.predict(X_val)"
   ]
  },
  {
   "cell_type": "markdown",
   "id": "9911b209",
   "metadata": {},
   "source": [
    "### KNN\n",
    "\n",
    "We can create a K-Nearest Neighbors model, which relies on identifying the closest observations to our \"x\" data point to label it.\n",
    "\n",
    "Since KNN predicts the class of a given test observation by identifying the observations that are closest to it, the scale of the variable is highly influential and variables of a large scale have bigger impacts than variables of smaller scales. Therefore, we must scale all the variables first before building our model."
   ]
  },
  {
   "cell_type": "code",
   "execution_count": 30,
   "id": "f20460c7",
   "metadata": {},
   "outputs": [],
   "source": [
    "from sklearn.preprocessing import StandardScaler\n",
    "from sklearn.model_selection import GridSearchCV\n",
    "from sklearn.neighbors import KNeighborsClassifier"
   ]
  },
  {
   "cell_type": "code",
   "execution_count": 31,
   "id": "c4c69bfa",
   "metadata": {},
   "outputs": [
    {
     "data": {
      "text/html": [
       "<div>\n",
       "<style scoped>\n",
       "    .dataframe tbody tr th:only-of-type {\n",
       "        vertical-align: middle;\n",
       "    }\n",
       "\n",
       "    .dataframe tbody tr th {\n",
       "        vertical-align: top;\n",
       "    }\n",
       "\n",
       "    .dataframe thead th {\n",
       "        text-align: right;\n",
       "    }\n",
       "</style>\n",
       "<table border=\"1\" class=\"dataframe\">\n",
       "  <thead>\n",
       "    <tr style=\"text-align: right;\">\n",
       "      <th></th>\n",
       "      <th>PassengerId</th>\n",
       "      <th>Pclass</th>\n",
       "      <th>Age</th>\n",
       "      <th>SibSp</th>\n",
       "      <th>Parch</th>\n",
       "      <th>Fare</th>\n",
       "      <th>Sex_male</th>\n",
       "      <th>Embarked_Q</th>\n",
       "      <th>Embarked_S</th>\n",
       "    </tr>\n",
       "  </thead>\n",
       "  <tbody>\n",
       "    <tr>\n",
       "      <th>0</th>\n",
       "      <td>0.082822</td>\n",
       "      <td>0.813949</td>\n",
       "      <td>0.646596</td>\n",
       "      <td>-0.479269</td>\n",
       "      <td>-0.4847</td>\n",
       "      <td>-0.486935</td>\n",
       "      <td>0.733799</td>\n",
       "      <td>-0.306961</td>\n",
       "      <td>0.594461</td>\n",
       "    </tr>\n",
       "    <tr>\n",
       "      <th>1</th>\n",
       "      <td>0.223114</td>\n",
       "      <td>-1.587867</td>\n",
       "      <td>0.646596</td>\n",
       "      <td>-0.479269</td>\n",
       "      <td>-0.4847</td>\n",
       "      <td>-0.122936</td>\n",
       "      <td>0.733799</td>\n",
       "      <td>-0.306961</td>\n",
       "      <td>0.594461</td>\n",
       "    </tr>\n",
       "    <tr>\n",
       "      <th>2</th>\n",
       "      <td>-0.556287</td>\n",
       "      <td>-1.587867</td>\n",
       "      <td>-0.920701</td>\n",
       "      <td>0.392129</td>\n",
       "      <td>-0.4847</td>\n",
       "      <td>1.552835</td>\n",
       "      <td>-1.362770</td>\n",
       "      <td>-0.306961</td>\n",
       "      <td>-1.682197</td>\n",
       "    </tr>\n",
       "    <tr>\n",
       "      <th>3</th>\n",
       "      <td>0.028264</td>\n",
       "      <td>-1.587867</td>\n",
       "      <td>0.646596</td>\n",
       "      <td>0.392129</td>\n",
       "      <td>-0.4847</td>\n",
       "      <td>0.392158</td>\n",
       "      <td>-1.362770</td>\n",
       "      <td>-0.306961</td>\n",
       "      <td>0.594461</td>\n",
       "    </tr>\n",
       "    <tr>\n",
       "      <th>4</th>\n",
       "      <td>-0.108131</td>\n",
       "      <td>0.813949</td>\n",
       "      <td>-0.025103</td>\n",
       "      <td>-0.479269</td>\n",
       "      <td>-0.4847</td>\n",
       "      <td>-0.502960</td>\n",
       "      <td>0.733799</td>\n",
       "      <td>-0.306961</td>\n",
       "      <td>0.594461</td>\n",
       "    </tr>\n",
       "  </tbody>\n",
       "</table>\n",
       "</div>"
      ],
      "text/plain": [
       "   PassengerId    Pclass       Age     SibSp   Parch      Fare  Sex_male  \\\n",
       "0     0.082822  0.813949  0.646596 -0.479269 -0.4847 -0.486935  0.733799   \n",
       "1     0.223114 -1.587867  0.646596 -0.479269 -0.4847 -0.122936  0.733799   \n",
       "2    -0.556287 -1.587867 -0.920701  0.392129 -0.4847  1.552835 -1.362770   \n",
       "3     0.028264 -1.587867  0.646596  0.392129 -0.4847  0.392158 -1.362770   \n",
       "4    -0.108131  0.813949 -0.025103 -0.479269 -0.4847 -0.502960  0.733799   \n",
       "\n",
       "   Embarked_Q  Embarked_S  \n",
       "0   -0.306961    0.594461  \n",
       "1   -0.306961    0.594461  \n",
       "2   -0.306961   -1.682197  \n",
       "3   -0.306961    0.594461  \n",
       "4   -0.306961    0.594461  "
      ]
     },
     "execution_count": 31,
     "metadata": {},
     "output_type": "execute_result"
    }
   ],
   "source": [
    "scaler = StandardScaler()\n",
    "scaler.fit(X_train) # fit to data, not the target class\n",
    "scaled_features = scaler.transform(X_train)\n",
    "\n",
    "X_tr_scaled = pd.DataFrame(scaled_features, columns = X_train.columns)\n",
    "X_tr_scaled.head()"
   ]
  },
  {
   "cell_type": "code",
   "execution_count": 32,
   "id": "7124c42d",
   "metadata": {
    "scrolled": true
   },
   "outputs": [
    {
     "data": {
      "text/plain": [
       "GridSearchCV(estimator=KNeighborsClassifier(),\n",
       "             param_grid={'n_neighbors': array([ 1,  2,  3,  4,  5,  6,  7,  8,  9, 10, 11, 12, 13, 14, 15, 16, 17,\n",
       "       18, 19, 20, 21, 22, 23, 24, 25, 26, 27, 28, 29, 30, 31, 32, 33, 34,\n",
       "       35, 36, 37, 38, 39])},\n",
       "             return_train_score=True)"
      ]
     },
     "execution_count": 32,
     "metadata": {},
     "output_type": "execute_result"
    }
   ],
   "source": [
    "param_grid = {'n_neighbors': np.arange(1,40)}\n",
    "grid = GridSearchCV(KNeighborsClassifier(), param_grid = param_grid, return_train_score = True)\n",
    "grid.fit(X_tr_scaled, y_train)"
   ]
  },
  {
   "cell_type": "code",
   "execution_count": 33,
   "id": "02118a6c",
   "metadata": {},
   "outputs": [
    {
     "name": "stdout",
     "output_type": "stream",
     "text": [
      "Best mean cross-validation score: 0.8138888888888889\n",
      "Best parameters: {'n_neighbors': 8}\n",
      "Test-set score: 0.528\n"
     ]
    }
   ],
   "source": [
    "print(f\"Best mean cross-validation score: {grid.best_score_}\")\n",
    "print(f\"Best parameters: {grid.best_params_}\")\n",
    "print(f\"Test-set score: {grid.score(X_test, y_test):.3f}\")"
   ]
  },
  {
   "cell_type": "markdown",
   "id": "7c39e244",
   "metadata": {},
   "source": [
    "It seems the optimal K-value occurs at K = 8. We now have the optimal parameter for our KNN model."
   ]
  },
  {
   "cell_type": "code",
   "execution_count": 34,
   "id": "82b683ca",
   "metadata": {},
   "outputs": [],
   "source": [
    "scaled_val_features = scaler.transform(X_val)\n",
    "knn_model = KNeighborsClassifier(n_neighbors = grid.best_params_.get('n_neighbors'))\n",
    "knn_model.fit(X_tr_scaled, y_train)\n",
    "knn_predictions = knn_model.predict(scaled_val_features)"
   ]
  },
  {
   "cell_type": "markdown",
   "id": "ff616ddd",
   "metadata": {},
   "source": [
    "### SVM"
   ]
  },
  {
   "cell_type": "code",
   "execution_count": 35,
   "id": "84132a2e",
   "metadata": {},
   "outputs": [],
   "source": [
    "from sklearn import svm"
   ]
  },
  {
   "cell_type": "code",
   "execution_count": 36,
   "id": "4ba4a295",
   "metadata": {},
   "outputs": [],
   "source": [
    "svm_model = svm.SVC()\n",
    "svm_model.fit(X_train, y_train)\n",
    "svm_predictions = svm_model.predict(X_val)"
   ]
  },
  {
   "cell_type": "markdown",
   "id": "79e7772f",
   "metadata": {},
   "source": [
    "### Decision Trees\n",
    "\n",
    "We'll start with a single tree."
   ]
  },
  {
   "cell_type": "code",
   "execution_count": 37,
   "id": "7ef0b579",
   "metadata": {},
   "outputs": [],
   "source": [
    "from sklearn.tree import DecisionTreeClassifier"
   ]
  },
  {
   "cell_type": "code",
   "execution_count": 38,
   "id": "7c006805",
   "metadata": {},
   "outputs": [],
   "source": [
    "dtree = DecisionTreeClassifier()\n",
    "dtree.fit(X_train, y_train)\n",
    "dtree_predictions = dtree.predict(X_val)"
   ]
  },
  {
   "cell_type": "markdown",
   "id": "33c8d7b4",
   "metadata": {},
   "source": [
    "Now let's see how these results compare to a random forest model"
   ]
  },
  {
   "cell_type": "code",
   "execution_count": 39,
   "id": "1596618c",
   "metadata": {},
   "outputs": [],
   "source": [
    "from sklearn.ensemble import RandomForestClassifier"
   ]
  },
  {
   "cell_type": "code",
   "execution_count": 40,
   "id": "bde36cff",
   "metadata": {},
   "outputs": [],
   "source": [
    "rfc = RandomForestClassifier(n_estimators = 200)\n",
    "rfc.fit(X_train, y_train)\n",
    "rfc_predictions = rfc.predict(X_val)"
   ]
  },
  {
   "cell_type": "markdown",
   "id": "4d3f6a41",
   "metadata": {},
   "source": [
    "### Model Evaluation"
   ]
  },
  {
   "cell_type": "code",
   "execution_count": 41,
   "id": "11c1dca7",
   "metadata": {},
   "outputs": [],
   "source": [
    "from sklearn.metrics import classification_report, confusion_matrix"
   ]
  },
  {
   "cell_type": "code",
   "execution_count": 42,
   "id": "b188e3d0",
   "metadata": {},
   "outputs": [
    {
     "name": "stdout",
     "output_type": "stream",
     "text": [
      "Logistic Regression\n",
      "[[40 10]\n",
      " [ 8 22]]\n",
      "\n",
      "\n",
      "              precision    recall  f1-score   support\n",
      "\n",
      "           0       0.83      0.80      0.82        50\n",
      "           1       0.69      0.73      0.71        30\n",
      "\n",
      "    accuracy                           0.78        80\n",
      "   macro avg       0.76      0.77      0.76        80\n",
      "weighted avg       0.78      0.78      0.78        80\n",
      "\n"
     ]
    }
   ],
   "source": [
    "print('Logistic Regression')\n",
    "print(confusion_matrix(log_predictions, y_val))\n",
    "print('\\n')\n",
    "print(classification_report(log_predictions, y_val))"
   ]
  },
  {
   "cell_type": "code",
   "execution_count": 43,
   "id": "c0231d89",
   "metadata": {
    "scrolled": true
   },
   "outputs": [
    {
     "name": "stdout",
     "output_type": "stream",
     "text": [
      "KNN\n",
      "[[45 10]\n",
      " [ 3 22]]\n",
      "\n",
      "\n",
      "              precision    recall  f1-score   support\n",
      "\n",
      "           0       0.94      0.82      0.87        55\n",
      "           1       0.69      0.88      0.77        25\n",
      "\n",
      "    accuracy                           0.84        80\n",
      "   macro avg       0.81      0.85      0.82        80\n",
      "weighted avg       0.86      0.84      0.84        80\n",
      "\n"
     ]
    }
   ],
   "source": [
    "print('KNN')\n",
    "print(confusion_matrix(knn_predictions, y_val))\n",
    "print('\\n')\n",
    "print(classification_report(knn_predictions, y_val))"
   ]
  },
  {
   "cell_type": "code",
   "execution_count": 44,
   "id": "9e8b0be2",
   "metadata": {
    "scrolled": true
   },
   "outputs": [
    {
     "name": "stdout",
     "output_type": "stream",
     "text": [
      "SVM\n",
      "[[48 29]\n",
      " [ 0  3]]\n",
      "\n",
      "\n",
      "              precision    recall  f1-score   support\n",
      "\n",
      "           0       1.00      0.62      0.77        77\n",
      "           1       0.09      1.00      0.17         3\n",
      "\n",
      "    accuracy                           0.64        80\n",
      "   macro avg       0.55      0.81      0.47        80\n",
      "weighted avg       0.97      0.64      0.75        80\n",
      "\n"
     ]
    }
   ],
   "source": [
    "print('SVM')\n",
    "print(confusion_matrix(svm_predictions, y_val))\n",
    "print('\\n')\n",
    "print(classification_report(svm_predictions, y_val))"
   ]
  },
  {
   "cell_type": "code",
   "execution_count": 45,
   "id": "ad99ff69",
   "metadata": {},
   "outputs": [
    {
     "name": "stdout",
     "output_type": "stream",
     "text": [
      "Decision Tree\n",
      "[[37  7]\n",
      " [11 25]]\n",
      "\n",
      "\n",
      "              precision    recall  f1-score   support\n",
      "\n",
      "           0       0.77      0.84      0.80        44\n",
      "           1       0.78      0.69      0.74        36\n",
      "\n",
      "    accuracy                           0.78        80\n",
      "   macro avg       0.78      0.77      0.77        80\n",
      "weighted avg       0.78      0.78      0.77        80\n",
      "\n"
     ]
    }
   ],
   "source": [
    "print('Decision Tree')\n",
    "print(confusion_matrix(dtree_predictions, y_val))\n",
    "print('\\n')\n",
    "print(classification_report(dtree_predictions, y_val))"
   ]
  },
  {
   "cell_type": "code",
   "execution_count": 46,
   "id": "a5e262d4",
   "metadata": {},
   "outputs": [
    {
     "name": "stdout",
     "output_type": "stream",
     "text": [
      "Random Forest\n",
      "[[42  9]\n",
      " [ 6 23]]\n",
      "\n",
      "\n",
      "              precision    recall  f1-score   support\n",
      "\n",
      "           0       0.88      0.82      0.85        51\n",
      "           1       0.72      0.79      0.75        29\n",
      "\n",
      "    accuracy                           0.81        80\n",
      "   macro avg       0.80      0.81      0.80        80\n",
      "weighted avg       0.82      0.81      0.81        80\n",
      "\n"
     ]
    }
   ],
   "source": [
    "print('Random Forest')\n",
    "print(confusion_matrix(rfc_predictions, y_val))\n",
    "print('\\n')\n",
    "print(classification_report(rfc_predictions, y_val))"
   ]
  },
  {
   "cell_type": "markdown",
   "id": "482e319c",
   "metadata": {},
   "source": [
    "It seems that KNN has the best performance of the models we've selected. Let's evaluate its performance in the test data."
   ]
  },
  {
   "cell_type": "markdown",
   "id": "d9a6f2fc",
   "metadata": {},
   "source": [
    "### Combining training data with validation and retrain our KNN model on that 90% data then compute its score on the remaining 10% test data."
   ]
  },
  {
   "cell_type": "code",
   "execution_count": 47,
   "id": "3020767b",
   "metadata": {},
   "outputs": [],
   "source": [
    "# Scaling training-validation data\n",
    "scaled_trainval_features = scaler.transform(X_trainval)\n",
    "\n",
    "X_trval_scaled = pd.DataFrame(scaled_trainval_features, columns = X_trainval.columns)\n",
    "X_tr_scaled.head()\n",
    "\n",
    "# Scaling test data\n",
    "scaled_test_features = scaler.transform(X_test)\n",
    "\n",
    "knn_model = KNeighborsClassifier(n_neighbors = grid.best_params_.get('n_neighbors'))\n",
    "knn_model.fit(X_trval_scaled, y_trainval)\n",
    "knn_predictions = knn_model.predict(scaled_test_features)"
   ]
  },
  {
   "cell_type": "code",
   "execution_count": 48,
   "id": "1602f303",
   "metadata": {},
   "outputs": [
    {
     "name": "stdout",
     "output_type": "stream",
     "text": [
      "KNN\n",
      "[[48  8]\n",
      " [10 23]]\n",
      "\n",
      "\n",
      "              precision    recall  f1-score   support\n",
      "\n",
      "           0       0.83      0.86      0.84        56\n",
      "           1       0.74      0.70      0.72        33\n",
      "\n",
      "    accuracy                           0.80        89\n",
      "   macro avg       0.78      0.78      0.78        89\n",
      "weighted avg       0.80      0.80      0.80        89\n",
      "\n"
     ]
    }
   ],
   "source": [
    "print('KNN')\n",
    "print(confusion_matrix(knn_predictions, y_test))\n",
    "print('\\n')\n",
    "print(classification_report(knn_predictions, y_test))"
   ]
  },
  {
   "cell_type": "markdown",
   "id": "bad57df1",
   "metadata": {},
   "source": [
    "The performance of our KNN model is a little bit worse on the test set than on the validation set, but it's not bad."
   ]
  },
  {
   "cell_type": "markdown",
   "id": "530edce7",
   "metadata": {},
   "source": [
    "### Creating our submission.csv\n",
    "\n",
    "This is the file we'll be submitting to the Kaggle competiton."
   ]
  },
  {
   "cell_type": "code",
   "execution_count": 49,
   "id": "904fb3b6",
   "metadata": {},
   "outputs": [],
   "source": [
    "test_data = pd.read_csv('test.csv')"
   ]
  },
  {
   "cell_type": "code",
   "execution_count": 50,
   "id": "53a8a6c2",
   "metadata": {},
   "outputs": [
    {
     "name": "stdout",
     "output_type": "stream",
     "text": [
      "<class 'pandas.core.frame.DataFrame'>\n",
      "RangeIndex: 418 entries, 0 to 417\n",
      "Data columns (total 11 columns):\n",
      " #   Column       Non-Null Count  Dtype  \n",
      "---  ------       --------------  -----  \n",
      " 0   PassengerId  418 non-null    int64  \n",
      " 1   Pclass       418 non-null    int64  \n",
      " 2   Name         418 non-null    object \n",
      " 3   Sex          418 non-null    object \n",
      " 4   Age          332 non-null    float64\n",
      " 5   SibSp        418 non-null    int64  \n",
      " 6   Parch        418 non-null    int64  \n",
      " 7   Ticket       418 non-null    object \n",
      " 8   Fare         417 non-null    float64\n",
      " 9   Cabin        91 non-null     object \n",
      " 10  Embarked     418 non-null    object \n",
      "dtypes: float64(2), int64(4), object(5)\n",
      "memory usage: 36.0+ KB\n"
     ]
    }
   ],
   "source": [
    "test_data.info()"
   ]
  },
  {
   "cell_type": "markdown",
   "id": "fafe4519",
   "metadata": {},
   "source": [
    "#### Repeating our data preprocessing steps..."
   ]
  },
  {
   "cell_type": "code",
   "execution_count": 51,
   "id": "1d71e6e3",
   "metadata": {},
   "outputs": [
    {
     "data": {
      "text/html": [
       "<div>\n",
       "<style scoped>\n",
       "    .dataframe tbody tr th:only-of-type {\n",
       "        vertical-align: middle;\n",
       "    }\n",
       "\n",
       "    .dataframe tbody tr th {\n",
       "        vertical-align: top;\n",
       "    }\n",
       "\n",
       "    .dataframe thead th {\n",
       "        text-align: right;\n",
       "    }\n",
       "</style>\n",
       "<table border=\"1\" class=\"dataframe\">\n",
       "  <thead>\n",
       "    <tr style=\"text-align: right;\">\n",
       "      <th></th>\n",
       "      <th>Age</th>\n",
       "      <th>Fare</th>\n",
       "      <th>Cabin</th>\n",
       "    </tr>\n",
       "  </thead>\n",
       "  <tbody>\n",
       "    <tr>\n",
       "      <th>0</th>\n",
       "      <td>34.5</td>\n",
       "      <td>7.8292</td>\n",
       "      <td>NaN</td>\n",
       "    </tr>\n",
       "    <tr>\n",
       "      <th>1</th>\n",
       "      <td>47.0</td>\n",
       "      <td>7.0000</td>\n",
       "      <td>NaN</td>\n",
       "    </tr>\n",
       "    <tr>\n",
       "      <th>2</th>\n",
       "      <td>62.0</td>\n",
       "      <td>9.6875</td>\n",
       "      <td>NaN</td>\n",
       "    </tr>\n",
       "    <tr>\n",
       "      <th>3</th>\n",
       "      <td>27.0</td>\n",
       "      <td>8.6625</td>\n",
       "      <td>NaN</td>\n",
       "    </tr>\n",
       "    <tr>\n",
       "      <th>4</th>\n",
       "      <td>22.0</td>\n",
       "      <td>12.2875</td>\n",
       "      <td>NaN</td>\n",
       "    </tr>\n",
       "    <tr>\n",
       "      <th>...</th>\n",
       "      <td>...</td>\n",
       "      <td>...</td>\n",
       "      <td>...</td>\n",
       "    </tr>\n",
       "    <tr>\n",
       "      <th>413</th>\n",
       "      <td>NaN</td>\n",
       "      <td>8.0500</td>\n",
       "      <td>NaN</td>\n",
       "    </tr>\n",
       "    <tr>\n",
       "      <th>414</th>\n",
       "      <td>39.0</td>\n",
       "      <td>108.9000</td>\n",
       "      <td>C105</td>\n",
       "    </tr>\n",
       "    <tr>\n",
       "      <th>415</th>\n",
       "      <td>38.5</td>\n",
       "      <td>7.2500</td>\n",
       "      <td>NaN</td>\n",
       "    </tr>\n",
       "    <tr>\n",
       "      <th>416</th>\n",
       "      <td>NaN</td>\n",
       "      <td>8.0500</td>\n",
       "      <td>NaN</td>\n",
       "    </tr>\n",
       "    <tr>\n",
       "      <th>417</th>\n",
       "      <td>NaN</td>\n",
       "      <td>22.3583</td>\n",
       "      <td>NaN</td>\n",
       "    </tr>\n",
       "  </tbody>\n",
       "</table>\n",
       "<p>418 rows × 3 columns</p>\n",
       "</div>"
      ],
      "text/plain": [
       "      Age      Fare Cabin\n",
       "0    34.5    7.8292   NaN\n",
       "1    47.0    7.0000   NaN\n",
       "2    62.0    9.6875   NaN\n",
       "3    27.0    8.6625   NaN\n",
       "4    22.0   12.2875   NaN\n",
       "..    ...       ...   ...\n",
       "413   NaN    8.0500   NaN\n",
       "414  39.0  108.9000  C105\n",
       "415  38.5    7.2500   NaN\n",
       "416   NaN    8.0500   NaN\n",
       "417   NaN   22.3583   NaN\n",
       "\n",
       "[418 rows x 3 columns]"
      ]
     },
     "execution_count": 51,
     "metadata": {},
     "output_type": "execute_result"
    }
   ],
   "source": [
    "test_data.loc[:, test_data.isnull().any() ]"
   ]
  },
  {
   "cell_type": "code",
   "execution_count": 52,
   "id": "3ce88c72",
   "metadata": {},
   "outputs": [
    {
     "data": {
      "text/plain": [
       "0"
      ]
     },
     "execution_count": 52,
     "metadata": {},
     "output_type": "execute_result"
    }
   ],
   "source": [
    "test_data['Age'] = test_data[['Age', 'Pclass']].apply(impute_age, axis = 1)\n",
    "test_data['Age'].isna().sum()"
   ]
  },
  {
   "cell_type": "code",
   "execution_count": 53,
   "id": "47e2253a",
   "metadata": {},
   "outputs": [
    {
     "data": {
      "text/plain": [
       "327"
      ]
     },
     "execution_count": 53,
     "metadata": {},
     "output_type": "execute_result"
    }
   ],
   "source": [
    "test_data['Cabin'].isna().sum()"
   ]
  },
  {
   "cell_type": "markdown",
   "id": "7ee345ce",
   "metadata": {},
   "source": [
    "Too many missing entries in `Cabin` so we'll drop it. We'll also drop `Name` and `Ticket` for the same reason we did earlier."
   ]
  },
  {
   "cell_type": "code",
   "execution_count": 54,
   "id": "abcf64cc",
   "metadata": {},
   "outputs": [
    {
     "name": "stdout",
     "output_type": "stream",
     "text": [
      "<class 'pandas.core.frame.DataFrame'>\n",
      "RangeIndex: 418 entries, 0 to 417\n",
      "Data columns (total 8 columns):\n",
      " #   Column       Non-Null Count  Dtype  \n",
      "---  ------       --------------  -----  \n",
      " 0   PassengerId  418 non-null    int64  \n",
      " 1   Pclass       418 non-null    int64  \n",
      " 2   Sex          418 non-null    object \n",
      " 3   Age          418 non-null    float64\n",
      " 4   SibSp        418 non-null    int64  \n",
      " 5   Parch        418 non-null    int64  \n",
      " 6   Fare         417 non-null    float64\n",
      " 7   Embarked     418 non-null    object \n",
      "dtypes: float64(2), int64(4), object(2)\n",
      "memory usage: 26.2+ KB\n"
     ]
    }
   ],
   "source": [
    "test_data = test_data.drop(['Cabin', 'Name', 'Ticket'], axis = 1)\n",
    "test_data.info()"
   ]
  },
  {
   "cell_type": "code",
   "execution_count": 55,
   "id": "2d6bb1f9",
   "metadata": {},
   "outputs": [
    {
     "data": {
      "text/plain": [
       "1"
      ]
     },
     "execution_count": 55,
     "metadata": {},
     "output_type": "execute_result"
    }
   ],
   "source": [
    "test_data['Fare'].isna().sum()"
   ]
  },
  {
   "cell_type": "markdown",
   "id": "3027242b",
   "metadata": {},
   "source": [
    "We can impute the value of this one missing `Fare` with the mean  fare of the respective `Pclass` factor."
   ]
  },
  {
   "cell_type": "code",
   "execution_count": 56,
   "id": "0923c9f7",
   "metadata": {},
   "outputs": [
    {
     "data": {
      "text/plain": [
       "Pclass\n",
       "1    94.280297\n",
       "2    22.202104\n",
       "3    12.459678\n",
       "Name: Fare, dtype: float64"
      ]
     },
     "execution_count": 56,
     "metadata": {},
     "output_type": "execute_result"
    }
   ],
   "source": [
    "test_data.groupby('Pclass')['Fare'].mean()"
   ]
  },
  {
   "cell_type": "code",
   "execution_count": 57,
   "id": "e5380101",
   "metadata": {},
   "outputs": [],
   "source": [
    "def impute_fare(cols):\n",
    "    Fare = cols[0]\n",
    "    Pclass = cols[1]\n",
    "\n",
    "    if pd.isnull(Fare):\n",
    "        if Pclass == 1:\n",
    "            return round(test_data[test_data['Pclass'] == 1]['Fare'].dropna().mean(), 4) # the average for 1st class\n",
    "        elif Pclass == 2:\n",
    "             return round(test_data[test_data['Pclass'] == 2]['Fare'].dropna().mean(), 4) # the average for 2nd class\n",
    "        else:\n",
    "             return round(test_data[test_data['Pclass'] == 3]['Fare'].dropna().mean(), 4) # the average for 3rd class\n",
    "    else:\n",
    "        return Fare"
   ]
  },
  {
   "cell_type": "code",
   "execution_count": 58,
   "id": "8b55badb",
   "metadata": {
    "scrolled": true
   },
   "outputs": [
    {
     "data": {
      "text/plain": [
       "0"
      ]
     },
     "execution_count": 58,
     "metadata": {},
     "output_type": "execute_result"
    }
   ],
   "source": [
    "test_data['Fare'] = test_data[['Fare', 'Pclass']].apply(impute_fare, axis = 1)\n",
    "test_data['Fare'].isna().sum()"
   ]
  },
  {
   "cell_type": "code",
   "execution_count": 59,
   "id": "7026880b",
   "metadata": {},
   "outputs": [],
   "source": [
    "test_data = pd.get_dummies(test_data, columns = ['Sex', 'Embarked'], drop_first = True)"
   ]
  },
  {
   "cell_type": "markdown",
   "id": "c7695e26",
   "metadata": {},
   "source": [
    "#### Time to make our predictions"
   ]
  },
  {
   "cell_type": "code",
   "execution_count": 60,
   "id": "e4d8fb97",
   "metadata": {},
   "outputs": [],
   "source": [
    "scaled_test_features = scaler.transform(test_data)\n",
    "predictions = knn_model.predict(scaled_test_features)"
   ]
  },
  {
   "cell_type": "code",
   "execution_count": 61,
   "id": "d42a51f0",
   "metadata": {},
   "outputs": [
    {
     "name": "stdout",
     "output_type": "stream",
     "text": [
      "Your submission was successfully saved!\n"
     ]
    }
   ],
   "source": [
    "output = pd.DataFrame({'PassengerId': test_data.PassengerId, 'Survived': predictions})\n",
    "output.to_csv('submission.csv', index=False)\n",
    "print(\"Your submission was successfully saved!\")"
   ]
  },
  {
   "cell_type": "markdown",
   "id": "aae23373",
   "metadata": {},
   "source": [
    "Edit: My score after submitting turned out to be 0.76315, meaning I predicted survival correctly that percent of people."
   ]
  }
 ],
 "metadata": {
  "kernelspec": {
   "display_name": "Python 3",
   "language": "python",
   "name": "python3"
  },
  "language_info": {
   "codemirror_mode": {
    "name": "ipython",
    "version": 3
   },
   "file_extension": ".py",
   "mimetype": "text/x-python",
   "name": "python",
   "nbconvert_exporter": "python",
   "pygments_lexer": "ipython3",
   "version": "3.8.8"
  }
 },
 "nbformat": 4,
 "nbformat_minor": 5
}
