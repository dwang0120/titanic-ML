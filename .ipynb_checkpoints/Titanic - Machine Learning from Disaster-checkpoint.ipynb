{
 "cells": [
  {
   "cell_type": "markdown",
   "id": "d4ac03a3",
   "metadata": {},
   "source": [
    "## Kaggle Competition: Titanic - Machine Learning from Disaster\n",
    "\n",
    "The goal of this project is to use ML models to predict which passengers survived in the Titanic shipwreck. Data comes from the [Kaggle 'Titanic - Machine Learning from Disaster' competition](https://www.kaggle.com/c/titanic/overview). "
   ]
  },
  {
   "cell_type": "markdown",
   "id": "089afba4",
   "metadata": {},
   "source": [
    "## Importing Libraries"
   ]
  },
  {
   "cell_type": "code",
   "execution_count": 1,
   "id": "e2e45d4a",
   "metadata": {},
   "outputs": [],
   "source": [
    "import pandas as pd\n",
    "import numpy as np\n",
    "import matplotlib.pyplot as plt\n",
    "import seaborn as sns\n",
    "%matplotlib inline"
   ]
  },
  {
   "cell_type": "markdown",
   "id": "78cac71b",
   "metadata": {},
   "source": [
    "## Loading in the data"
   ]
  },
  {
   "cell_type": "code",
   "execution_count": 2,
   "id": "24aa4187",
   "metadata": {},
   "outputs": [],
   "source": [
    "titanic = pd.read_csv('train.csv')"
   ]
  },
  {
   "cell_type": "code",
   "execution_count": 3,
   "id": "7aceefab",
   "metadata": {
    "scrolled": true
   },
   "outputs": [
    {
     "data": {
      "text/html": [
       "<div>\n",
       "<style scoped>\n",
       "    .dataframe tbody tr th:only-of-type {\n",
       "        vertical-align: middle;\n",
       "    }\n",
       "\n",
       "    .dataframe tbody tr th {\n",
       "        vertical-align: top;\n",
       "    }\n",
       "\n",
       "    .dataframe thead th {\n",
       "        text-align: right;\n",
       "    }\n",
       "</style>\n",
       "<table border=\"1\" class=\"dataframe\">\n",
       "  <thead>\n",
       "    <tr style=\"text-align: right;\">\n",
       "      <th></th>\n",
       "      <th>PassengerId</th>\n",
       "      <th>Survived</th>\n",
       "      <th>Pclass</th>\n",
       "      <th>Name</th>\n",
       "      <th>Sex</th>\n",
       "      <th>Age</th>\n",
       "      <th>SibSp</th>\n",
       "      <th>Parch</th>\n",
       "      <th>Ticket</th>\n",
       "      <th>Fare</th>\n",
       "      <th>Cabin</th>\n",
       "      <th>Embarked</th>\n",
       "    </tr>\n",
       "  </thead>\n",
       "  <tbody>\n",
       "    <tr>\n",
       "      <th>0</th>\n",
       "      <td>1</td>\n",
       "      <td>0</td>\n",
       "      <td>3</td>\n",
       "      <td>Braund, Mr. Owen Harris</td>\n",
       "      <td>male</td>\n",
       "      <td>22.0</td>\n",
       "      <td>1</td>\n",
       "      <td>0</td>\n",
       "      <td>A/5 21171</td>\n",
       "      <td>7.2500</td>\n",
       "      <td>NaN</td>\n",
       "      <td>S</td>\n",
       "    </tr>\n",
       "    <tr>\n",
       "      <th>1</th>\n",
       "      <td>2</td>\n",
       "      <td>1</td>\n",
       "      <td>1</td>\n",
       "      <td>Cumings, Mrs. John Bradley (Florence Briggs Th...</td>\n",
       "      <td>female</td>\n",
       "      <td>38.0</td>\n",
       "      <td>1</td>\n",
       "      <td>0</td>\n",
       "      <td>PC 17599</td>\n",
       "      <td>71.2833</td>\n",
       "      <td>C85</td>\n",
       "      <td>C</td>\n",
       "    </tr>\n",
       "    <tr>\n",
       "      <th>2</th>\n",
       "      <td>3</td>\n",
       "      <td>1</td>\n",
       "      <td>3</td>\n",
       "      <td>Heikkinen, Miss. Laina</td>\n",
       "      <td>female</td>\n",
       "      <td>26.0</td>\n",
       "      <td>0</td>\n",
       "      <td>0</td>\n",
       "      <td>STON/O2. 3101282</td>\n",
       "      <td>7.9250</td>\n",
       "      <td>NaN</td>\n",
       "      <td>S</td>\n",
       "    </tr>\n",
       "    <tr>\n",
       "      <th>3</th>\n",
       "      <td>4</td>\n",
       "      <td>1</td>\n",
       "      <td>1</td>\n",
       "      <td>Futrelle, Mrs. Jacques Heath (Lily May Peel)</td>\n",
       "      <td>female</td>\n",
       "      <td>35.0</td>\n",
       "      <td>1</td>\n",
       "      <td>0</td>\n",
       "      <td>113803</td>\n",
       "      <td>53.1000</td>\n",
       "      <td>C123</td>\n",
       "      <td>S</td>\n",
       "    </tr>\n",
       "    <tr>\n",
       "      <th>4</th>\n",
       "      <td>5</td>\n",
       "      <td>0</td>\n",
       "      <td>3</td>\n",
       "      <td>Allen, Mr. William Henry</td>\n",
       "      <td>male</td>\n",
       "      <td>35.0</td>\n",
       "      <td>0</td>\n",
       "      <td>0</td>\n",
       "      <td>373450</td>\n",
       "      <td>8.0500</td>\n",
       "      <td>NaN</td>\n",
       "      <td>S</td>\n",
       "    </tr>\n",
       "  </tbody>\n",
       "</table>\n",
       "</div>"
      ],
      "text/plain": [
       "   PassengerId  Survived  Pclass  \\\n",
       "0            1         0       3   \n",
       "1            2         1       1   \n",
       "2            3         1       3   \n",
       "3            4         1       1   \n",
       "4            5         0       3   \n",
       "\n",
       "                                                Name     Sex   Age  SibSp  \\\n",
       "0                            Braund, Mr. Owen Harris    male  22.0      1   \n",
       "1  Cumings, Mrs. John Bradley (Florence Briggs Th...  female  38.0      1   \n",
       "2                             Heikkinen, Miss. Laina  female  26.0      0   \n",
       "3       Futrelle, Mrs. Jacques Heath (Lily May Peel)  female  35.0      1   \n",
       "4                           Allen, Mr. William Henry    male  35.0      0   \n",
       "\n",
       "   Parch            Ticket     Fare Cabin Embarked  \n",
       "0      0         A/5 21171   7.2500   NaN        S  \n",
       "1      0          PC 17599  71.2833   C85        C  \n",
       "2      0  STON/O2. 3101282   7.9250   NaN        S  \n",
       "3      0            113803  53.1000  C123        S  \n",
       "4      0            373450   8.0500   NaN        S  "
      ]
     },
     "execution_count": 3,
     "metadata": {},
     "output_type": "execute_result"
    }
   ],
   "source": [
    "titanic.head()"
   ]
  },
  {
   "cell_type": "code",
   "execution_count": 4,
   "id": "e438445e",
   "metadata": {},
   "outputs": [
    {
     "name": "stdout",
     "output_type": "stream",
     "text": [
      "<class 'pandas.core.frame.DataFrame'>\n",
      "RangeIndex: 891 entries, 0 to 890\n",
      "Data columns (total 12 columns):\n",
      " #   Column       Non-Null Count  Dtype  \n",
      "---  ------       --------------  -----  \n",
      " 0   PassengerId  891 non-null    int64  \n",
      " 1   Survived     891 non-null    int64  \n",
      " 2   Pclass       891 non-null    int64  \n",
      " 3   Name         891 non-null    object \n",
      " 4   Sex          891 non-null    object \n",
      " 5   Age          714 non-null    float64\n",
      " 6   SibSp        891 non-null    int64  \n",
      " 7   Parch        891 non-null    int64  \n",
      " 8   Ticket       891 non-null    object \n",
      " 9   Fare         891 non-null    float64\n",
      " 10  Cabin        204 non-null    object \n",
      " 11  Embarked     889 non-null    object \n",
      "dtypes: float64(2), int64(5), object(5)\n",
      "memory usage: 83.7+ KB\n"
     ]
    }
   ],
   "source": [
    "titanic.info()"
   ]
  },
  {
   "cell_type": "code",
   "execution_count": 5,
   "id": "25133620",
   "metadata": {},
   "outputs": [
    {
     "data": {
      "text/html": [
       "<div>\n",
       "<style scoped>\n",
       "    .dataframe tbody tr th:only-of-type {\n",
       "        vertical-align: middle;\n",
       "    }\n",
       "\n",
       "    .dataframe tbody tr th {\n",
       "        vertical-align: top;\n",
       "    }\n",
       "\n",
       "    .dataframe thead th {\n",
       "        text-align: right;\n",
       "    }\n",
       "</style>\n",
       "<table border=\"1\" class=\"dataframe\">\n",
       "  <thead>\n",
       "    <tr style=\"text-align: right;\">\n",
       "      <th></th>\n",
       "      <th>PassengerId</th>\n",
       "      <th>Survived</th>\n",
       "      <th>Pclass</th>\n",
       "      <th>Age</th>\n",
       "      <th>SibSp</th>\n",
       "      <th>Parch</th>\n",
       "      <th>Fare</th>\n",
       "    </tr>\n",
       "  </thead>\n",
       "  <tbody>\n",
       "    <tr>\n",
       "      <th>count</th>\n",
       "      <td>891.000000</td>\n",
       "      <td>891.000000</td>\n",
       "      <td>891.000000</td>\n",
       "      <td>714.000000</td>\n",
       "      <td>891.000000</td>\n",
       "      <td>891.000000</td>\n",
       "      <td>891.000000</td>\n",
       "    </tr>\n",
       "    <tr>\n",
       "      <th>mean</th>\n",
       "      <td>446.000000</td>\n",
       "      <td>0.383838</td>\n",
       "      <td>2.308642</td>\n",
       "      <td>29.699118</td>\n",
       "      <td>0.523008</td>\n",
       "      <td>0.381594</td>\n",
       "      <td>32.204208</td>\n",
       "    </tr>\n",
       "    <tr>\n",
       "      <th>std</th>\n",
       "      <td>257.353842</td>\n",
       "      <td>0.486592</td>\n",
       "      <td>0.836071</td>\n",
       "      <td>14.526497</td>\n",
       "      <td>1.102743</td>\n",
       "      <td>0.806057</td>\n",
       "      <td>49.693429</td>\n",
       "    </tr>\n",
       "    <tr>\n",
       "      <th>min</th>\n",
       "      <td>1.000000</td>\n",
       "      <td>0.000000</td>\n",
       "      <td>1.000000</td>\n",
       "      <td>0.420000</td>\n",
       "      <td>0.000000</td>\n",
       "      <td>0.000000</td>\n",
       "      <td>0.000000</td>\n",
       "    </tr>\n",
       "    <tr>\n",
       "      <th>25%</th>\n",
       "      <td>223.500000</td>\n",
       "      <td>0.000000</td>\n",
       "      <td>2.000000</td>\n",
       "      <td>20.125000</td>\n",
       "      <td>0.000000</td>\n",
       "      <td>0.000000</td>\n",
       "      <td>7.910400</td>\n",
       "    </tr>\n",
       "    <tr>\n",
       "      <th>50%</th>\n",
       "      <td>446.000000</td>\n",
       "      <td>0.000000</td>\n",
       "      <td>3.000000</td>\n",
       "      <td>28.000000</td>\n",
       "      <td>0.000000</td>\n",
       "      <td>0.000000</td>\n",
       "      <td>14.454200</td>\n",
       "    </tr>\n",
       "    <tr>\n",
       "      <th>75%</th>\n",
       "      <td>668.500000</td>\n",
       "      <td>1.000000</td>\n",
       "      <td>3.000000</td>\n",
       "      <td>38.000000</td>\n",
       "      <td>1.000000</td>\n",
       "      <td>0.000000</td>\n",
       "      <td>31.000000</td>\n",
       "    </tr>\n",
       "    <tr>\n",
       "      <th>max</th>\n",
       "      <td>891.000000</td>\n",
       "      <td>1.000000</td>\n",
       "      <td>3.000000</td>\n",
       "      <td>80.000000</td>\n",
       "      <td>8.000000</td>\n",
       "      <td>6.000000</td>\n",
       "      <td>512.329200</td>\n",
       "    </tr>\n",
       "  </tbody>\n",
       "</table>\n",
       "</div>"
      ],
      "text/plain": [
       "       PassengerId    Survived      Pclass         Age       SibSp  \\\n",
       "count   891.000000  891.000000  891.000000  714.000000  891.000000   \n",
       "mean    446.000000    0.383838    2.308642   29.699118    0.523008   \n",
       "std     257.353842    0.486592    0.836071   14.526497    1.102743   \n",
       "min       1.000000    0.000000    1.000000    0.420000    0.000000   \n",
       "25%     223.500000    0.000000    2.000000   20.125000    0.000000   \n",
       "50%     446.000000    0.000000    3.000000   28.000000    0.000000   \n",
       "75%     668.500000    1.000000    3.000000   38.000000    1.000000   \n",
       "max     891.000000    1.000000    3.000000   80.000000    8.000000   \n",
       "\n",
       "            Parch        Fare  \n",
       "count  891.000000  891.000000  \n",
       "mean     0.381594   32.204208  \n",
       "std      0.806057   49.693429  \n",
       "min      0.000000    0.000000  \n",
       "25%      0.000000    7.910400  \n",
       "50%      0.000000   14.454200  \n",
       "75%      0.000000   31.000000  \n",
       "max      6.000000  512.329200  "
      ]
     },
     "execution_count": 5,
     "metadata": {},
     "output_type": "execute_result"
    }
   ],
   "source": [
    "titanic.describe()"
   ]
  },
  {
   "cell_type": "markdown",
   "id": "7f3d6373",
   "metadata": {},
   "source": [
    "## Exploratory Data Analysis\n",
    "\n",
    "It appears that there are several missing values (NaN's) in the dataset. We'll need to figure out what to do with those first before we can proceed with building our ML models.\n",
    "\n",
    "Let's see which of our features have NaN's first."
   ]
  },
  {
   "cell_type": "code",
   "execution_count": 6,
   "id": "7d827e5e",
   "metadata": {},
   "outputs": [
    {
     "data": {
      "text/html": [
       "<div>\n",
       "<style scoped>\n",
       "    .dataframe tbody tr th:only-of-type {\n",
       "        vertical-align: middle;\n",
       "    }\n",
       "\n",
       "    .dataframe tbody tr th {\n",
       "        vertical-align: top;\n",
       "    }\n",
       "\n",
       "    .dataframe thead th {\n",
       "        text-align: right;\n",
       "    }\n",
       "</style>\n",
       "<table border=\"1\" class=\"dataframe\">\n",
       "  <thead>\n",
       "    <tr style=\"text-align: right;\">\n",
       "      <th></th>\n",
       "      <th>Age</th>\n",
       "      <th>Cabin</th>\n",
       "      <th>Embarked</th>\n",
       "    </tr>\n",
       "  </thead>\n",
       "  <tbody>\n",
       "    <tr>\n",
       "      <th>0</th>\n",
       "      <td>22.0</td>\n",
       "      <td>NaN</td>\n",
       "      <td>S</td>\n",
       "    </tr>\n",
       "    <tr>\n",
       "      <th>1</th>\n",
       "      <td>38.0</td>\n",
       "      <td>C85</td>\n",
       "      <td>C</td>\n",
       "    </tr>\n",
       "    <tr>\n",
       "      <th>2</th>\n",
       "      <td>26.0</td>\n",
       "      <td>NaN</td>\n",
       "      <td>S</td>\n",
       "    </tr>\n",
       "    <tr>\n",
       "      <th>3</th>\n",
       "      <td>35.0</td>\n",
       "      <td>C123</td>\n",
       "      <td>S</td>\n",
       "    </tr>\n",
       "    <tr>\n",
       "      <th>4</th>\n",
       "      <td>35.0</td>\n",
       "      <td>NaN</td>\n",
       "      <td>S</td>\n",
       "    </tr>\n",
       "    <tr>\n",
       "      <th>...</th>\n",
       "      <td>...</td>\n",
       "      <td>...</td>\n",
       "      <td>...</td>\n",
       "    </tr>\n",
       "    <tr>\n",
       "      <th>886</th>\n",
       "      <td>27.0</td>\n",
       "      <td>NaN</td>\n",
       "      <td>S</td>\n",
       "    </tr>\n",
       "    <tr>\n",
       "      <th>887</th>\n",
       "      <td>19.0</td>\n",
       "      <td>B42</td>\n",
       "      <td>S</td>\n",
       "    </tr>\n",
       "    <tr>\n",
       "      <th>888</th>\n",
       "      <td>NaN</td>\n",
       "      <td>NaN</td>\n",
       "      <td>S</td>\n",
       "    </tr>\n",
       "    <tr>\n",
       "      <th>889</th>\n",
       "      <td>26.0</td>\n",
       "      <td>C148</td>\n",
       "      <td>C</td>\n",
       "    </tr>\n",
       "    <tr>\n",
       "      <th>890</th>\n",
       "      <td>32.0</td>\n",
       "      <td>NaN</td>\n",
       "      <td>Q</td>\n",
       "    </tr>\n",
       "  </tbody>\n",
       "</table>\n",
       "<p>891 rows × 3 columns</p>\n",
       "</div>"
      ],
      "text/plain": [
       "      Age Cabin Embarked\n",
       "0    22.0   NaN        S\n",
       "1    38.0   C85        C\n",
       "2    26.0   NaN        S\n",
       "3    35.0  C123        S\n",
       "4    35.0   NaN        S\n",
       "..    ...   ...      ...\n",
       "886  27.0   NaN        S\n",
       "887  19.0   B42        S\n",
       "888   NaN   NaN        S\n",
       "889  26.0  C148        C\n",
       "890  32.0   NaN        Q\n",
       "\n",
       "[891 rows x 3 columns]"
      ]
     },
     "execution_count": 6,
     "metadata": {},
     "output_type": "execute_result"
    }
   ],
   "source": [
    "titanic.loc[:, titanic.isnull().any() ]"
   ]
  },
  {
   "cell_type": "markdown",
   "id": "193f4abf",
   "metadata": {},
   "source": [
    "It appears that our features with missing values are `Age`, `Cabin`, and `Embarked`. Let's visualize how many missing values are in each column."
   ]
  },
  {
   "cell_type": "code",
   "execution_count": 7,
   "id": "4c0e3018",
   "metadata": {},
   "outputs": [
    {
     "data": {
      "text/plain": [
       "<matplotlib.axes._subplots.AxesSubplot at 0x25693458fa0>"
      ]
     },
     "execution_count": 7,
     "metadata": {},
     "output_type": "execute_result"
    },
    {
     "data": {
      "image/png": "[encoded data removed]",
      "text/plain": [
       "<Figure size 792x504 with 2 Axes>"
      ]
     },
     "metadata": {
      "needs_background": "light"
     },
     "output_type": "display_data"
    }
   ],
   "source": [
    "plt.figure(figsize = (11,7))\n",
    "sns.heatmap(titanic.isnull(), cbar = True)"
   ]
  },
  {
   "cell_type": "markdown",
   "id": "f72e826d",
   "metadata": {},
   "source": [
    "We can see that a majority of the information in `Cabin` is missing. It might therefore be better off to simply drop the feature entirely since we can't do much with it. As for `Age` and `Embarked`, we still retain enough values where we can still do something useful with them. \n",
    "\n",
    "For now, let's proceed with the rest of our EDA. Let's look at the distribution of our 'Survived' target column"
   ]
  },
  {
   "cell_type": "code",
   "execution_count": 75,
   "id": "3114174b",
   "metadata": {},
   "outputs": [
    {
     "data": {
      "text/plain": [
       "[array([549, 340], dtype=int64)]"
      ]
     },
     "execution_count": 75,
     "metadata": {},
     "output_type": "execute_result"
    }
   ],
   "source": [
    "[titanic['Survived'].value_counts().values]"
   ]
  },
  {
   "cell_type": "code",
   "execution_count": 81,
   "id": "0826e7b3",
   "metadata": {},
   "outputs": [
    {
     "data": {
      "image/png": "[encoded data removed]",
      "text/plain": [
       "<Figure size 792x504 with 1 Axes>"
      ]
     },
     "metadata": {
      "needs_background": "light"
     },
     "output_type": "display_data"
    }
   ],
   "source": [
    "fig = plt.figure(figsize = (11,7))\n",
    "ax = sns.countplot(x = 'Survived', data = titanic)\n",
    "\n",
    "for p, label in zip(ax.patches, titanic[\"Survived\"].value_counts().values):\n",
    "    ax.annotate(label, (p.get_x()+0.375, p.get_height()+0.4))"
   ]
  },
  {
   "cell_type": "markdown",
   "id": "89831c0e",
   "metadata": {},
   "source": [
    "Sex seems like it might be a significant predictor so let's visualize who survived by sex."
   ]
  },
  {
   "cell_type": "code",
   "execution_count": 8,
   "id": "60c52a6c",
   "metadata": {},
   "outputs": [
    {
     "data": {
      "text/plain": [
       "<matplotlib.axes._subplots.AxesSubplot at 0x256934269a0>"
      ]
     },
     "execution_count": 8,
     "metadata": {},
     "output_type": "execute_result"
    },
    {
     "data": {
      "image/png": "[encoded data removed]",
      "text/plain": [
       "<Figure size 792x504 with 1 Axes>"
      ]
     },
     "metadata": {
      "needs_background": "light"
     },
     "output_type": "display_data"
    }
   ],
   "source": [
    "plt.figure(figsize = (11,7))\n",
    "sns.countplot(x = 'Survived', hue = 'Sex', data = titanic)"
   ]
  },
  {
   "cell_type": "markdown",
   "id": "0148b966",
   "metadata": {},
   "source": [
    "It seems that the overwhelming proportion of those who survived were female. Those who didn't survive were overwhelmingly male.\n",
    "\n",
    "Let's look at who survived by age."
   ]
  },
  {
   "cell_type": "code",
   "execution_count": 9,
   "id": "dc87ecf3",
   "metadata": {},
   "outputs": [
    {
     "data": {
      "text/plain": [
       "<matplotlib.legend.Legend at 0x25693c9dd60>"
      ]
     },
     "execution_count": 9,
     "metadata": {},
     "output_type": "execute_result"
    },
    {
     "data": {
      "image/png": "[encoded data removed]",
      "text/plain": [
       "<Figure size 792x504 with 1 Axes>"
      ]
     },
     "metadata": {
      "needs_background": "light"
     },
     "output_type": "display_data"
    }
   ],
   "source": [
    "plt.figure(figsize = (11,7))\n",
    "titanic[titanic['Survived'] == 1]['Age'].dropna().hist(bins = 30, alpha = 0.6, label = 'Survived', color = 'blue')\n",
    "titanic[titanic['Survived'] == 0]['Age'].dropna().hist(bins = 30, alpha = 0.6, label = 'Did Not Survive', color = 'red')\n",
    "plt.legend()"
   ]
  },
  {
   "cell_type": "markdown",
   "id": "175b0650",
   "metadata": {},
   "source": [
    "Visually, there doesn't appear to be a large difference in ages between those who survived and those who didn't. "
   ]
  },
  {
   "cell_type": "code",
   "execution_count": 10,
   "id": "ddddf4e0",
   "metadata": {
    "scrolled": false
   },
   "outputs": [
    {
     "data": {
      "text/plain": [
       "<matplotlib.axes._subplots.AxesSubplot at 0x25693dbb2b0>"
      ]
     },
     "execution_count": 10,
     "metadata": {},
     "output_type": "execute_result"
    },
    {
     "data": {
      "image/png": "[encoded data removed]",
      "text/plain": [
       "<Figure size 792x504 with 1 Axes>"
      ]
     },
     "metadata": {
      "needs_background": "light"
     },
     "output_type": "display_data"
    }
   ],
   "source": [
    "plt.figure(figsize = (11,7))\n",
    "sns.histplot(titanic['Age'].dropna(), kde = False, bins = 30 )"
   ]
  },
  {
   "cell_type": "markdown",
   "id": "f947c353",
   "metadata": {},
   "source": [
    "There were a surprising amount of passengers aged 0 to 10. It seems the majority of passengers were around 20 to 40 years of age.\n",
    "\n",
    "Let's look at `Sibsp`, the passenger's number of siblings/spouses onboard, and `parch`, the number of children or parents onboard."
   ]
  },
  {
   "cell_type": "code",
   "execution_count": 11,
   "id": "eee78bff",
   "metadata": {
    "scrolled": false
   },
   "outputs": [
    {
     "data": {
      "text/plain": [
       "<matplotlib.axes._subplots.AxesSubplot at 0x25694447ca0>"
      ]
     },
     "execution_count": 11,
     "metadata": {},
     "output_type": "execute_result"
    },
    {
     "data": {
      "image/png": "[encoded data removed]",
      "text/plain": [
       "<Figure size 792x504 with 1 Axes>"
      ]
     },
     "metadata": {
      "needs_background": "light"
     },
     "output_type": "display_data"
    }
   ],
   "source": [
    "plt.figure(figsize = (11,7))\n",
    "sns.countplot(x = 'SibSp', data = titanic)"
   ]
  },
  {
   "cell_type": "code",
   "execution_count": 12,
   "id": "b29ee265",
   "metadata": {},
   "outputs": [
    {
     "data": {
      "text/plain": [
       "<matplotlib.axes._subplots.AxesSubplot at 0x2569448ca90>"
      ]
     },
     "execution_count": 12,
     "metadata": {},
     "output_type": "execute_result"
    },
    {
     "data": {
      "image/png": "[encoded data removed]",
      "text/plain": [
       "<Figure size 792x504 with 1 Axes>"
      ]
     },
     "metadata": {
      "needs_background": "light"
     },
     "output_type": "display_data"
    }
   ],
   "source": [
    "plt.figure(figsize = (11,7))\n",
    "sns.countplot(x = 'Parch', data = titanic)"
   ]
  },
  {
   "cell_type": "markdown",
   "id": "9dd82dc0",
   "metadata": {},
   "source": [
    "The vast majority of passengers traveled by themselves. Some of them had a sibling or spouse onboard. Few traveled with a parent of child. \n",
    "\n",
    "Finally, let's take a look at the passenger classes and ticket prices."
   ]
  },
  {
   "cell_type": "code",
   "execution_count": 13,
   "id": "a86f1c28",
   "metadata": {
    "scrolled": false
   },
   "outputs": [
    {
     "data": {
      "text/plain": [
       "<matplotlib.axes._subplots.AxesSubplot at 0x256944fa790>"
      ]
     },
     "execution_count": 13,
     "metadata": {},
     "output_type": "execute_result"
    },
    {
     "data": {
      "image/png": "[encoded data removed]",
      "text/plain": [
       "<Figure size 792x504 with 1 Axes>"
      ]
     },
     "metadata": {
      "needs_background": "light"
     },
     "output_type": "display_data"
    }
   ],
   "source": [
    "plt.figure(figsize = (11,7))\n",
    "sns.countplot(x = 'Pclass', data = titanic)"
   ]
  },
  {
   "cell_type": "markdown",
   "id": "a516c61b",
   "metadata": {},
   "source": [
    "It's interesting that there are more passengers in 1st class than in 2nd class. 3rd class of course composes of most of the passengers. "
   ]
  },
  {
   "cell_type": "code",
   "execution_count": 14,
   "id": "32e3a2b2",
   "metadata": {
    "scrolled": false
   },
   "outputs": [
    {
     "data": {
      "image/png": "[encoded data removed]",
      "text/plain": [
       "<Figure size 792x504 with 1 Axes>"
      ]
     },
     "metadata": {
      "needs_background": "light"
     },
     "output_type": "display_data"
    }
   ],
   "source": [
    "plt.figure(figsize = (11,7))\n",
    "plt.hist(x = 'Fare', data = titanic, bins = 35)\n",
    "plt.xlabel('Fare')\n",
    "plt.xticks(list(np.arange(0,600,50)))\n",
    "plt.show()"
   ]
  },
  {
   "cell_type": "markdown",
   "id": "9d8cabdb",
   "metadata": {},
   "source": [
    "It seems most ticket prices were between $0 and $50, which makes sense that most of the passengers are in 3rd class."
   ]
  },
  {
   "cell_type": "markdown",
   "id": "98e365bc",
   "metadata": {},
   "source": [
    "## Data Cleaning\n",
    "\n",
    "It's now time to deal with missing values in our dataset. First, let's drop the `Cabin` column because it has too many missing values to be useful. While we're at it, let's also drop the 'Name' and 'Ticket' columns since they're all unique string values. Working with these would be difficult and would likely required NLP to glean any useful information."
   ]
  },
  {
   "cell_type": "code",
   "execution_count": 15,
   "id": "a5298f05",
   "metadata": {},
   "outputs": [
    {
     "name": "stdout",
     "output_type": "stream",
     "text": [
      "<class 'pandas.core.frame.DataFrame'>\n",
      "RangeIndex: 891 entries, 0 to 890\n",
      "Data columns (total 9 columns):\n",
      " #   Column       Non-Null Count  Dtype  \n",
      "---  ------       --------------  -----  \n",
      " 0   PassengerId  891 non-null    int64  \n",
      " 1   Survived     891 non-null    int64  \n",
      " 2   Pclass       891 non-null    int64  \n",
      " 3   Sex          891 non-null    object \n",
      " 4   Age          714 non-null    float64\n",
      " 5   SibSp        891 non-null    int64  \n",
      " 6   Parch        891 non-null    int64  \n",
      " 7   Fare         891 non-null    float64\n",
      " 8   Embarked     889 non-null    object \n",
      "dtypes: float64(2), int64(5), object(2)\n",
      "memory usage: 62.8+ KB\n"
     ]
    }
   ],
   "source": [
    "titanic = titanic.drop(['Cabin', 'Name', 'Ticket'], axis = 1)\n",
    "titanic.info()"
   ]
  },
  {
   "cell_type": "markdown",
   "id": "5d05c0ff",
   "metadata": {},
   "source": [
    "Now, to deal with the missing values in `Age`. We can do some data imputation, or replacing the missing values based on other information in the dataset. Probably the most-related feature in the dataset is `Pclass`, so we can use the average ages in each passenger class to fill in the missing age values. "
   ]
  },
  {
   "cell_type": "code",
   "execution_count": 16,
   "id": "2895bb32",
   "metadata": {
    "scrolled": false
   },
   "outputs": [
    {
     "data": {
      "text/plain": [
       "<matplotlib.axes._subplots.AxesSubplot at 0x256947261c0>"
      ]
     },
     "execution_count": 16,
     "metadata": {},
     "output_type": "execute_result"
    },
    {
     "data": {
      "image/png": "[encoded data removed]",
      "text/plain": [
       "<Figure size 792x504 with 1 Axes>"
      ]
     },
     "metadata": {
      "needs_background": "light"
     },
     "output_type": "display_data"
    }
   ],
   "source": [
    "plt.figure(figsize = (11,7))\n",
    "sns.boxplot(y='Age', x = 'Pclass', data = titanic)"
   ]
  },
  {
   "cell_type": "markdown",
   "id": "7a0fee3d",
   "metadata": {},
   "source": [
    "There appears to be a significant difference in the ages of passengers in different class. The wealthier passengers in 1st and 2nd class tend to be older than the passengers in 3rd class."
   ]
  },
  {
   "cell_type": "code",
   "execution_count": 17,
   "id": "b25589cf",
   "metadata": {},
   "outputs": [],
   "source": [
    "def impute_age(cols):\n",
    "    Age = cols[0]\n",
    "    Pclass = cols[1]\n",
    "\n",
    "    if pd.isnull(Age):\n",
    "        if Pclass == 1:\n",
    "            return round(titanic[titanic['Pclass'] == 1]['Age'].dropna().mean()) # the average for 1st class\n",
    "        elif Pclass == 2:\n",
    "            return round(titanic[titanic['Pclass'] == 2]['Age'].dropna().mean()) # the average for 2nd class\n",
    "        else:\n",
    "            return round(titanic[titanic['Pclass'] == 3]['Age'].dropna().mean()) # the average for 3rd class\n",
    "    else:\n",
    "        return Age\n"
   ]
  },
  {
   "cell_type": "code",
   "execution_count": 18,
   "id": "936fe1ae",
   "metadata": {
    "scrolled": true
   },
   "outputs": [
    {
     "data": {
      "text/plain": [
       "0"
      ]
     },
     "execution_count": 18,
     "metadata": {},
     "output_type": "execute_result"
    }
   ],
   "source": [
    "titanic['Age'] = titanic[['Age', 'Pclass']].apply(impute_age, axis = 1)\n",
    "titanic['Age'].isna().sum()"
   ]
  },
  {
   "cell_type": "markdown",
   "id": "73011860",
   "metadata": {},
   "source": [
    "Now for `Embarked`..."
   ]
  },
  {
   "cell_type": "code",
   "execution_count": 19,
   "id": "56a9c484",
   "metadata": {},
   "outputs": [
    {
     "data": {
      "text/plain": [
       "2"
      ]
     },
     "execution_count": 19,
     "metadata": {},
     "output_type": "execute_result"
    }
   ],
   "source": [
    "titanic['Embarked'].isna().sum()"
   ]
  },
  {
   "cell_type": "markdown",
   "id": "e8feee08",
   "metadata": {},
   "source": [
    "There are only two missing rows so it might be better to just drop these rows."
   ]
  },
  {
   "cell_type": "code",
   "execution_count": 20,
   "id": "88aee24c",
   "metadata": {
    "scrolled": true
   },
   "outputs": [
    {
     "data": {
      "text/plain": [
       "0"
      ]
     },
     "execution_count": 20,
     "metadata": {},
     "output_type": "execute_result"
    }
   ],
   "source": [
    "titanic.dropna(inplace=True)\n",
    "titanic['Embarked'].isna().sum()"
   ]
  },
  {
   "cell_type": "markdown",
   "id": "662074ad",
   "metadata": {},
   "source": [
    "We can convert `Sex` and `Embarked` to dummy variables, which is much easier to use with our models."
   ]
  },
  {
   "cell_type": "code",
   "execution_count": 21,
   "id": "f3455fc8",
   "metadata": {},
   "outputs": [
    {
     "name": "stdout",
     "output_type": "stream",
     "text": [
      "<class 'pandas.core.frame.DataFrame'>\n",
      "Int64Index: 889 entries, 0 to 890\n",
      "Data columns (total 9 columns):\n",
      " #   Column       Non-Null Count  Dtype  \n",
      "---  ------       --------------  -----  \n",
      " 0   PassengerId  889 non-null    int64  \n",
      " 1   Survived     889 non-null    int64  \n",
      " 2   Pclass       889 non-null    int64  \n",
      " 3   Sex          889 non-null    object \n",
      " 4   Age          889 non-null    float64\n",
      " 5   SibSp        889 non-null    int64  \n",
      " 6   Parch        889 non-null    int64  \n",
      " 7   Fare         889 non-null    float64\n",
      " 8   Embarked     889 non-null    object \n",
      "dtypes: float64(2), int64(5), object(2)\n",
      "memory usage: 69.5+ KB\n"
     ]
    }
   ],
   "source": [
    "titanic.info()"
   ]
  },
  {
   "cell_type": "code",
   "execution_count": 22,
   "id": "7e5746fc",
   "metadata": {},
   "outputs": [],
   "source": [
    "final_data = pd.get_dummies(titanic, columns = ['Sex', 'Embarked'], drop_first = True)"
   ]
  },
  {
   "cell_type": "code",
   "execution_count": 23,
   "id": "9aa1e4bd",
   "metadata": {},
   "outputs": [
    {
     "name": "stdout",
     "output_type": "stream",
     "text": [
      "<class 'pandas.core.frame.DataFrame'>\n",
      "Int64Index: 889 entries, 0 to 890\n",
      "Data columns (total 10 columns):\n",
      " #   Column       Non-Null Count  Dtype  \n",
      "---  ------       --------------  -----  \n",
      " 0   PassengerId  889 non-null    int64  \n",
      " 1   Survived     889 non-null    int64  \n",
      " 2   Pclass       889 non-null    int64  \n",
      " 3   Age          889 non-null    float64\n",
      " 4   SibSp        889 non-null    int64  \n",
      " 5   Parch        889 non-null    int64  \n",
      " 6   Fare         889 non-null    float64\n",
      " 7   Sex_male     889 non-null    uint8  \n",
      " 8   Embarked_Q   889 non-null    uint8  \n",
      " 9   Embarked_S   889 non-null    uint8  \n",
      "dtypes: float64(2), int64(5), uint8(3)\n",
      "memory usage: 58.2 KB\n"
     ]
    }
   ],
   "source": [
    "final_data.info()"
   ]
  },
  {
   "cell_type": "markdown",
   "id": "4d86d04f",
   "metadata": {},
   "source": [
    "## Model Building\n",
    "\n",
    "Now that our data has been sufficiently cleaned, we can start with building machine learning models."
   ]
  },
  {
   "cell_type": "code",
   "execution_count": 24,
   "id": "56aa6329",
   "metadata": {},
   "outputs": [],
   "source": [
    "from sklearn.model_selection import train_test_split"
   ]
  },
  {
   "cell_type": "code",
   "execution_count": 25,
   "id": "734029de",
   "metadata": {},
   "outputs": [],
   "source": [
    "X = final_data.drop('Survived', axis = 1)\n",
    "y = final_data['Survived']\n",
    "X_train, X_test, y_train, y_test = train_test_split(X, y, test_size=0.3, random_state=42)"
   ]
  },
  {
   "cell_type": "markdown",
   "id": "122067d8",
   "metadata": {},
   "source": [
    "### Logistic Regression\n",
    "\n",
    "Let's start with a logistic regression model, which is useful for predicting binary outcomes like our `Survived` label. "
   ]
  },
  {
   "cell_type": "code",
   "execution_count": 26,
   "id": "360e1b6a",
   "metadata": {},
   "outputs": [],
   "source": [
    "from sklearn.linear_model import LogisticRegression"
   ]
  },
  {
   "cell_type": "code",
   "execution_count": 27,
   "id": "708e55be",
   "metadata": {},
   "outputs": [],
   "source": [
    "logmodel = LogisticRegression(max_iter = 400)"
   ]
  },
  {
   "cell_type": "code",
   "execution_count": 28,
   "id": "51ae36ed",
   "metadata": {},
   "outputs": [],
   "source": [
    "logmodel.fit(X_train, y_train)\n",
    "predictions = logmodel.predict(X_test)"
   ]
  },
  {
   "cell_type": "code",
   "execution_count": 29,
   "id": "17fbe158",
   "metadata": {},
   "outputs": [],
   "source": [
    "from sklearn.metrics import classification_report, confusion_matrix, roc_auc_score\n",
    "from sklearn.model_selection import cross_val_score"
   ]
  },
  {
   "cell_type": "markdown",
   "id": "4d1a566f",
   "metadata": {},
   "source": [
    "#### Logistic Regression Model Performance Evaluation"
   ]
  },
  {
   "cell_type": "code",
   "execution_count": 30,
   "id": "45b3d78d",
   "metadata": {},
   "outputs": [
    {
     "name": "stdout",
     "output_type": "stream",
     "text": [
      "[[139  25]\n",
      " [ 28  75]]\n",
      "\n",
      "\n",
      "              precision    recall  f1-score   support\n",
      "\n",
      "           0       0.83      0.85      0.84       164\n",
      "           1       0.75      0.73      0.74       103\n",
      "\n",
      "    accuracy                           0.80       267\n",
      "   macro avg       0.79      0.79      0.79       267\n",
      "weighted avg       0.80      0.80      0.80       267\n",
      "\n",
      "0.8545508982035928\n"
     ]
    }
   ],
   "source": [
    "print(confusion_matrix(predictions, y_test))\n",
    "print('\\n')\n",
    "print(classification_report(predictions, y_test))\n",
    "\n",
    "## ROC Curve\n",
    "print(roc_auc_score(y_test, logmodel.predict_proba(X_test)[:, 1]))\n"
   ]
  },
  {
   "cell_type": "markdown",
   "id": "ac642668",
   "metadata": {},
   "source": [
    "#### Tuning our Logistic Regression Model\n",
    "\n",
    "We can tune our model by adjusting the regularization strength parameter \"C\", which inversely controls the bias-variance tradeoff in the model. Low values of C will lead to high regularization strength and creating simple models that underfit the data. High values of C will lead to low regularization strength which allows the model to increase its complexity, making it more likely to overfit the data."
   ]
  },
  {
   "cell_type": "code",
   "execution_count": 31,
   "id": "4e39f0c5",
   "metadata": {},
   "outputs": [
    {
     "data": {
      "image/png": "[encoded data removed]",
      "text/plain": [
       "<Figure size 720x504 with 1 Axes>"
      ]
     },
     "metadata": {
      "needs_background": "light"
     },
     "output_type": "display_data"
    }
   ],
   "source": [
    "C_param_range = [0.001, 0.01, 0.1, 1, 10, 100]\n",
    "\n",
    "titanic_auc_table = pd.DataFrame(columns = ['C_parameter', 'Accuracy'])\n",
    "titanic_auc_table['C_parameter'] = C_param_range\n",
    "\n",
    "j = 0\n",
    "for i in C_param_range:\n",
    "    # Apply model to training data\n",
    "    logmodel = LogisticRegression(C = i, random_state = 42, max_iter = 600)\n",
    "    logmodel.fit(X_train, y_train)\n",
    "    \n",
    "    # Predict with model\n",
    "    #log_pred = logmodel.predict(X_test)\n",
    "    \n",
    "    # Save AUC to table\n",
    "    titanic_auc_table.iloc[j,1] = roc_auc_score(y_test, logmodel.predict_proba(X_test)[:, 1])\n",
    "    \n",
    "    j += 1\n",
    "\n",
    "# Plotting out our AUC scores\n",
    "n = np.arange(6)\n",
    "fig = plt.figure(figsize = (10, 7))\n",
    "axes = fig.add_axes([0.1, 0.1, 0.8, 0.8])\n",
    "axes.plot(n, titanic_auc_table['Accuracy'])\n",
    "axes.xaxis.set_ticks(n)\n",
    "axes.xaxis.set_ticklabels(C_param_range)\n",
    "plt.show()\n",
    "\n",
    "    "
   ]
  },
  {
   "cell_type": "markdown",
   "id": "b9795895",
   "metadata": {},
   "source": [
    "It seems that the C = 0.1 is where the gains in performance in the logistic regression model significantly decrease. Therefore, we will set C = 0.1 for the model, which is smaller than the default value of C = 1. The model is therefore less likely to overfit the data and may perform better in other metrics."
   ]
  },
  {
   "cell_type": "code",
   "execution_count": 32,
   "id": "f58bf8ea",
   "metadata": {},
   "outputs": [
    {
     "name": "stdout",
     "output_type": "stream",
     "text": [
      "[[145  28]\n",
      " [ 22  72]]\n",
      "\n",
      "\n",
      "              precision    recall  f1-score   support\n",
      "\n",
      "           0       0.87      0.84      0.85       173\n",
      "           1       0.72      0.77      0.74        94\n",
      "\n",
      "    accuracy                           0.81       267\n",
      "   macro avg       0.79      0.80      0.80       267\n",
      "weighted avg       0.82      0.81      0.81       267\n",
      "\n"
     ]
    }
   ],
   "source": [
    "logmodel = LogisticRegression(C = 0.1, random_state = 42, max_iter = 600)\n",
    "logmodel.fit(X_train, y_train)\n",
    "\n",
    "predictions = logmodel.predict(X_test)\n",
    "\n",
    "print(confusion_matrix(predictions, y_test))\n",
    "print('\\n')\n",
    "print(classification_report(predictions, y_test))\n"
   ]
  },
  {
   "cell_type": "markdown",
   "id": "66cefc3d",
   "metadata": {},
   "source": [
    "We were able to get 1% to 2% increases in performance across our other metrics."
   ]
  },
  {
   "cell_type": "markdown",
   "id": "9911b209",
   "metadata": {},
   "source": [
    "### KNN\n",
    "\n",
    "We can create a K-Nearest Neighbors model, whcih relies on identifying the closest observations to our \"x\" data point to label it.\n",
    "\n",
    "Since KNN predicts the class of a given test observation by identifying the observations that are closest to it, the scale of the variable is highly influential and variables of a large scale have bigger impacts than variables of smaller scales. Therefore, we must scale all the variables first before building our model."
   ]
  },
  {
   "cell_type": "code",
   "execution_count": 33,
   "id": "f20460c7",
   "metadata": {},
   "outputs": [],
   "source": [
    "from sklearn.preprocessing import StandardScaler"
   ]
  },
  {
   "cell_type": "code",
   "execution_count": 34,
   "id": "f0faf5a9",
   "metadata": {},
   "outputs": [
    {
     "data": {
      "text/plain": [
       "Index(['PassengerId', 'Pclass', 'Age', 'SibSp', 'Parch', 'Fare', 'Sex_male',\n",
       "       'Embarked_Q', 'Embarked_S'],\n",
       "      dtype='object')"
      ]
     },
     "execution_count": 34,
     "metadata": {},
     "output_type": "execute_result"
    }
   ],
   "source": [
    "final_data.columns.drop('Survived')"
   ]
  },
  {
   "cell_type": "code",
   "execution_count": 35,
   "id": "c4c69bfa",
   "metadata": {},
   "outputs": [
    {
     "data": {
      "text/html": [
       "<div>\n",
       "<style scoped>\n",
       "    .dataframe tbody tr th:only-of-type {\n",
       "        vertical-align: middle;\n",
       "    }\n",
       "\n",
       "    .dataframe tbody tr th {\n",
       "        vertical-align: top;\n",
       "    }\n",
       "\n",
       "    .dataframe thead th {\n",
       "        text-align: right;\n",
       "    }\n",
       "</style>\n",
       "<table border=\"1\" class=\"dataframe\">\n",
       "  <thead>\n",
       "    <tr style=\"text-align: right;\">\n",
       "      <th></th>\n",
       "      <th>PassengerId</th>\n",
       "      <th>Pclass</th>\n",
       "      <th>Age</th>\n",
       "      <th>SibSp</th>\n",
       "      <th>Parch</th>\n",
       "      <th>Fare</th>\n",
       "      <th>Sex_male</th>\n",
       "      <th>Embarked_Q</th>\n",
       "      <th>Embarked_S</th>\n",
       "    </tr>\n",
       "  </thead>\n",
       "  <tbody>\n",
       "    <tr>\n",
       "      <th>0</th>\n",
       "      <td>-1.732505</td>\n",
       "      <td>0.825209</td>\n",
       "      <td>-0.548070</td>\n",
       "      <td>0.431350</td>\n",
       "      <td>-0.474326</td>\n",
       "      <td>-0.500240</td>\n",
       "      <td>0.735342</td>\n",
       "      <td>-0.307941</td>\n",
       "      <td>0.616794</td>\n",
       "    </tr>\n",
       "    <tr>\n",
       "      <th>1</th>\n",
       "      <td>-1.728611</td>\n",
       "      <td>-1.572211</td>\n",
       "      <td>0.666757</td>\n",
       "      <td>0.431350</td>\n",
       "      <td>-0.474326</td>\n",
       "      <td>0.788947</td>\n",
       "      <td>-1.359911</td>\n",
       "      <td>-0.307941</td>\n",
       "      <td>-1.621287</td>\n",
       "    </tr>\n",
       "    <tr>\n",
       "      <th>2</th>\n",
       "      <td>-1.724718</td>\n",
       "      <td>0.825209</td>\n",
       "      <td>-0.244363</td>\n",
       "      <td>-0.475199</td>\n",
       "      <td>-0.474326</td>\n",
       "      <td>-0.486650</td>\n",
       "      <td>-1.359911</td>\n",
       "      <td>-0.307941</td>\n",
       "      <td>0.616794</td>\n",
       "    </tr>\n",
       "    <tr>\n",
       "      <th>3</th>\n",
       "      <td>-1.720825</td>\n",
       "      <td>-1.572211</td>\n",
       "      <td>0.438977</td>\n",
       "      <td>0.431350</td>\n",
       "      <td>-0.474326</td>\n",
       "      <td>0.422861</td>\n",
       "      <td>-1.359911</td>\n",
       "      <td>-0.307941</td>\n",
       "      <td>0.616794</td>\n",
       "    </tr>\n",
       "    <tr>\n",
       "      <th>4</th>\n",
       "      <td>-1.716931</td>\n",
       "      <td>0.825209</td>\n",
       "      <td>0.438977</td>\n",
       "      <td>-0.475199</td>\n",
       "      <td>-0.474326</td>\n",
       "      <td>-0.484133</td>\n",
       "      <td>0.735342</td>\n",
       "      <td>-0.307941</td>\n",
       "      <td>0.616794</td>\n",
       "    </tr>\n",
       "  </tbody>\n",
       "</table>\n",
       "</div>"
      ],
      "text/plain": [
       "   PassengerId    Pclass       Age     SibSp     Parch      Fare  Sex_male  \\\n",
       "0    -1.732505  0.825209 -0.548070  0.431350 -0.474326 -0.500240  0.735342   \n",
       "1    -1.728611 -1.572211  0.666757  0.431350 -0.474326  0.788947 -1.359911   \n",
       "2    -1.724718  0.825209 -0.244363 -0.475199 -0.474326 -0.486650 -1.359911   \n",
       "3    -1.720825 -1.572211  0.438977  0.431350 -0.474326  0.422861 -1.359911   \n",
       "4    -1.716931  0.825209  0.438977 -0.475199 -0.474326 -0.484133  0.735342   \n",
       "\n",
       "   Embarked_Q  Embarked_S  \n",
       "0   -0.307941    0.616794  \n",
       "1   -0.307941   -1.621287  \n",
       "2   -0.307941    0.616794  \n",
       "3   -0.307941    0.616794  \n",
       "4   -0.307941    0.616794  "
      ]
     },
     "execution_count": 35,
     "metadata": {},
     "output_type": "execute_result"
    }
   ],
   "source": [
    "scaler = StandardScaler()\n",
    "scaler.fit(final_data.drop('Survived', axis = 1)) # fit to data, not the target class\n",
    "scaled_features = scaler.transform(final_data.drop('Survived', axis = 1))\n",
    "\n",
    "data_scaled = pd.DataFrame(scaled_features, columns = final_data.columns.drop('Survived'))\n",
    "data_scaled.head()"
   ]
  },
  {
   "cell_type": "code",
   "execution_count": 82,
   "id": "426ab107",
   "metadata": {},
   "outputs": [],
   "source": [
    "X = data_scaled\n",
    "y = final_data['Survived']\n",
    "X_train, X_test, y_train, y_test = train_test_split(X, y, test_size=0.33, random_state=70)"
   ]
  },
  {
   "cell_type": "code",
   "execution_count": 37,
   "id": "592c80de",
   "metadata": {},
   "outputs": [],
   "source": [
    "from sklearn.neighbors import KNeighborsClassifier"
   ]
  },
  {
   "cell_type": "code",
   "execution_count": 83,
   "id": "b0382eea",
   "metadata": {},
   "outputs": [],
   "source": [
    "training_err = []\n",
    "testing_err = []\n",
    "for i in range(1,60):\n",
    "    knn = KNeighborsClassifier(n_neighbors = i)\n",
    "    knn.fit(X_train, y_train)\n",
    "    \n",
    "    pred_i_train = knn.predict(X_train)\n",
    "    pred_i_test = knn.predict(X_test)\n",
    "    training_err.append(np.mean(pred_i_train != y_train))\n",
    "    testing_err.append(np.mean(pred_i_test != y_test))"
   ]
  },
  {
   "cell_type": "code",
   "execution_count": 85,
   "id": "428769d2",
   "metadata": {
    "scrolled": true
   },
   "outputs": [
    {
     "data": {
      "image/png": "[encoded data removed]",
      "text/plain": [
       "<Figure size 720x504 with 1 Axes>"
      ]
     },
     "metadata": {
      "needs_background": "light"
     },
     "output_type": "display_data"
    }
   ],
   "source": [
    "plt.figure(figsize=(10,7))\n",
    "plt.plot(range(1,60), training_err, color='red', linestyle = 'dashed',  marker = 'o', markerfacecolor = 'purple', markersize = 10,\n",
    "         label = \"Training Error Rate\")\n",
    "plt.plot(range(1,60), testing_err, color='green', linestyle = 'dashed',  marker = '*', markerfacecolor = 'blue', markersize = 10,\n",
    "         label = \"Testing Error Rate\")\n",
    "plt.grid()\n",
    "plt.xlabel('K Neighbors')\n",
    "plt.ylabel('Error Rate')\n",
    "plt.title(\"Error vs. K Value\")\n",
    "plt.legend()\n",
    "plt.show()"
   ]
  },
  {
   "cell_type": "markdown",
   "id": "df3b6bf1",
   "metadata": {},
   "source": [
    "It seems the optimal K-value occurs at K = 19"
   ]
  },
  {
   "cell_type": "code",
   "execution_count": 90,
   "id": "e87beaf9",
   "metadata": {},
   "outputs": [],
   "source": [
    "knn = KNeighborsClassifier(n_neighbors = 19)\n",
    "knn.fit(X_train, y_train)\n",
    "predictions = knn.predict(X_test)"
   ]
  },
  {
   "cell_type": "code",
   "execution_count": 91,
   "id": "18c8ca97",
   "metadata": {},
   "outputs": [
    {
     "name": "stdout",
     "output_type": "stream",
     "text": [
      "[[164  38]\n",
      " [ 16  76]]\n",
      "\n",
      "\n",
      "              precision    recall  f1-score   support\n",
      "\n",
      "           0       0.91      0.81      0.86       202\n",
      "           1       0.67      0.83      0.74        92\n",
      "\n",
      "    accuracy                           0.82       294\n",
      "   macro avg       0.79      0.82      0.80       294\n",
      "weighted avg       0.83      0.82      0.82       294\n",
      "\n",
      "0.8421783625730994\n"
     ]
    }
   ],
   "source": [
    "print(confusion_matrix(predictions, y_test))\n",
    "print('\\n')\n",
    "print(classification_report(predictions, y_test))\n",
    "\n",
    "## ROC Curve\n",
    "print(roc_auc_score(y_test, knn.predict_proba(X_test)[:, 1]))"
   ]
  },
  {
   "cell_type": "markdown",
   "id": "79e7772f",
   "metadata": {},
   "source": [
    "### Decision Trees"
   ]
  },
  {
   "cell_type": "code",
   "execution_count": 40,
   "id": "7ef0b579",
   "metadata": {},
   "outputs": [],
   "source": [
    "from sklearn.tree import DecisionTreeClassifier\n"
   ]
  }
 ],
 "metadata": {
  "kernelspec": {
   "display_name": "Python 3",
   "language": "python",
   "name": "python3"
  },
  "language_info": {
   "codemirror_mode": {
    "name": "ipython",
    "version": 3
   },
   "file_extension": ".py",
   "mimetype": "text/x-python",
   "name": "python",
   "nbconvert_exporter": "python",
   "pygments_lexer": "ipython3",
   "version": "3.8.8"
  }
 },
 "nbformat": 4,
 "nbformat_minor": 5
}
